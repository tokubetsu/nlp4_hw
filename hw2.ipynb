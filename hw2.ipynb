{
 "cells": [
  {
   "cell_type": "markdown",
   "id": "f38cf830",
   "metadata": {},
   "source": [
    "# Homework 2\n",
    "> Выполнила Зыкова Вероника, БКЛ192"
   ]
  },
  {
   "cell_type": "markdown",
   "id": "9d65cf5f",
   "metadata": {},
   "source": [
    "## Задание 1"
   ]
  },
  {
   "cell_type": "markdown",
   "id": "189262d2",
   "metadata": {},
   "source": [
    "**Способы**:\n",
    "> Сразу замечу, что мне показалось более правильным привести способы, которые не совсем в точности копируют то, что приводилось на паре. Как минимум, их было бы интереснее реализовать. Поэтому методы не про грамматики, а скорее про то, что можно испольовать контрастные корпуса (извините, меня просто зацепила эта тема не так давно...).\n",
    "\n",
    "1. Выделить все нграммы (2-3-граммы), которые не включают стоп слова и пунктуацию (кроме -, возможно, так как он используется внутри слов). Построить частотный словарь. Дальше можно взять наиболее частотные и вручную отобрать из них те, которые относятся к сущеостям данной категории. Это простой вариант. Необходим только изначальный корпус\n",
    "> Плюсы:\n",
    "> - быстро и просто\n",
    "> \n",
    "> Минусы:\n",
    "> - требует много ручной работы\n",
    "> - много мусора в выдаче\n",
    "2. Сделав всю ту же самоую предобработку, что и в первом пункте, можно поступить по-другому. Вообще, в первом случае мы получим в топе смесь сущностей и частотных, но ненужных на данном этапе коллокаций. Вторые можно попробовать убрать, если взять корпус с другой (лучше как можно более далекой) тематикой, и убрать из топа все коллокации, которые повторяются для двух корпусов. Оставшееся можно еще глазами проверить, но список в идеале должен получится чище. Нужен изначальный корпус и к нему в пару как можно более контрастный второй.\n",
    "> Плюсы:\n",
    "> - все еще быстро и просто\n",
    "> - должно быть меньше мусора\n",
    "> \n",
    "> Минусы:\n",
    "> - все еще требует много ручной работы\n",
    "3. Можно использовать классификацию и tf-idf достаточно странным способом: обучить интерпретируемый (статистический) классификатор типа логистической регрессии на tf-idf (для биграмм или триграмм) и посмотреть, каким словам модель дает наибольшие веса. Посомтреть, что это за слова. В иделае это будут сущности, и они же будут ключевыми словами во многом. Нужен изначальный корпус и к нему в пару как можно более контрастный второй.\n",
    "> Плюсы:\n",
    "> - более точная оценка важности слов\n",
    "> \n",
    "> Минусы:\n",
    "> - долго и сложно\n",
    "\n",
    "*Вообще я в итоге попробовала все три, и ни один иделаьно не работает, зато с последним я заметила интересную закономерность, если постепенно выкидывать слова, веса которых меньше стандартного отклонения, умноженного на какое-то число (я просто зануляла веса в модели), то качество падает, но гораздо медленне, чем падает размерность. Теоретически, это логично, так как все, что меньше стандартного отклонения вообще особо не несет вклада, а чем дальше, тем больше вклад и быстрее падение точности. Но са факт того, что можно выкинуть что-то достаточно интересный. Хотя гипотеза о том, что нужные сущности окажутся где-то там как будто не совсем подтвердилась. И это работает только для бинарной линейеной классификации, так как там очень очевидно, как веса определеяют важность слова*\n",
    "\n",
    "*Еще я в итоге работала с software, как с более понятной мне областью, однако второй и третий способы проверяла на других двух наборах, так как там больше объем корпуса. Но они в итоге не очень сработали, так что вернулась к первому*"
   ]
  },
  {
   "cell_type": "markdown",
   "id": "091e606f",
   "metadata": {},
   "source": [
    "### Imports and data reading"
   ]
  },
  {
   "cell_type": "code",
   "execution_count": 206,
   "id": "ba7c1a57",
   "metadata": {},
   "outputs": [],
   "source": [
    "import json\n",
    "import re\n",
    "import pandas as pd\n",
    "import numpy as np\n",
    "from tqdm.notebook import tqdm\n",
    "from collections import Counter\n",
    "from nltk.corpus import stopwords\n",
    "from nltk import ngrams\n",
    "from nltk import word_tokenize\n",
    "from nltk import pos_tag\n",
    "from sklearn.feature_extraction.text import TfidfVectorizer\n",
    "from sklearn.linear_model import LogisticRegression\n",
    "from sklearn.model_selection import train_test_split\n",
    "from matplotlib import pyplot as plt\n",
    "from nltk.stem import WordNetLemmatizer"
   ]
  },
  {
   "cell_type": "code",
   "execution_count": 207,
   "id": "6522592e",
   "metadata": {},
   "outputs": [],
   "source": [
    "def read_data(name):\n",
    "    data = []\n",
    "    with open(name, encoding='utf-8') as f:\n",
    "        rd = f.read().splitlines()\n",
    "        for el in tqdm(rd):\n",
    "            text = json.loads(el).get('reviewText', '')\n",
    "            if text != '':\n",
    "                data.append(text)\n",
    "    return data"
   ]
  },
  {
   "cell_type": "code",
   "execution_count": 208,
   "id": "7b341ac9",
   "metadata": {},
   "outputs": [
    {
     "data": {
      "application/vnd.jupyter.widget-view+json": {
       "model_id": "f0c4efb5c51e42deab851481c99b9fc3",
       "version_major": 2,
       "version_minor": 0
      },
      "text/plain": [
       "  0%|          | 0/494485 [00:00<?, ?it/s]"
      ]
     },
     "metadata": {},
     "output_type": "display_data"
    },
    {
     "data": {
      "application/vnd.jupyter.widget-view+json": {
       "model_id": "e85f37b89e1c4dfb81480eaca429058c",
       "version_major": 2,
       "version_minor": 0
      },
      "text/plain": [
       "  0%|          | 0/497577 [00:00<?, ?it/s]"
      ]
     },
     "metadata": {},
     "output_type": "display_data"
    },
    {
     "data": {
      "application/vnd.jupyter.widget-view+json": {
       "model_id": "7bbec076b8834841a83a23c273674819",
       "version_major": 2,
       "version_minor": 0
      },
      "text/plain": [
       "  0%|          | 0/12805 [00:00<?, ?it/s]"
      ]
     },
     "metadata": {},
     "output_type": "display_data"
    }
   ],
   "source": [
    "sw_data = read_data('Arts_Crafts_and_Sewing_5.json')\n",
    "cg_data = read_data('Video_Games_5.json')\n",
    "sf_data = read_data('Software_5.json')"
   ]
  },
  {
   "cell_type": "code",
   "execution_count": 209,
   "id": "7d7343f5",
   "metadata": {},
   "outputs": [],
   "source": [
    "stops = stopwords.words('english')\n",
    "with open('stops.json', encoding='utf-8') as f:\n",
    "    fstops = json.load(f)\n",
    "stops = set(stops) | set(fstops)"
   ]
  },
  {
   "cell_type": "markdown",
   "id": "f2de3582",
   "metadata": {},
   "source": [
    "### Способ 1"
   ]
  },
  {
   "cell_type": "code",
   "execution_count": 210,
   "id": "dbacad7f",
   "metadata": {},
   "outputs": [],
   "source": [
    "def preprocess(sent, pattern=re.compile(r\"[a-z0-9\\-]+\")):\n",
    "    res = []\n",
    "    global cache\n",
    "    sent = word_tokenize(sent)\n",
    "    for word in sent:\n",
    "        new_word = word.lower()\n",
    "        if new_word not in stops and pattern.fullmatch(new_word):\n",
    "            if new_word not in cache:\n",
    "                cache[new_word] = lemmatizer.lemmatize(new_word)\n",
    "            res.append(cache[new_word])\n",
    "    return ' '.join(res)"
   ]
  },
  {
   "cell_type": "code",
   "execution_count": 224,
   "id": "46c87f0b",
   "metadata": {},
   "outputs": [],
   "source": [
    "def get_ngrams(data, n=2, pattern=re.compile(r\"[a-z0-9\\-]+\")):\n",
    "    ngrs = Counter()\n",
    "    for el in tqdm(data):\n",
    "        sent = preprocess(el)\n",
    "        ngrs.update(ngrams(sent.split(), n))\n",
    "    return ngrs"
   ]
  },
  {
   "cell_type": "code",
   "execution_count": 227,
   "id": "912bfd59",
   "metadata": {
    "scrolled": true
   },
   "outputs": [
    {
     "data": {
      "application/vnd.jupyter.widget-view+json": {
       "model_id": "",
       "version_major": 2,
       "version_minor": 0
      },
      "text/plain": [
       "  0%|          | 0/12804 [00:00<?, ?it/s]"
      ]
     },
     "metadata": {},
     "output_type": "display_data"
    },
    {
     "data": {
      "text/plain": [
       "[(('software',), 11475),\n",
       " (('program',), 10249),\n",
       " (('window',), 8461),\n",
       " (('version',), 8265),\n",
       " (('product',), 7636),\n",
       " (('year',), 6493),\n",
       " (('time',), 6376),\n",
       " (('work',), 6289),\n",
       " (('computer',), 6167),\n",
       " (('feature',), 5144),\n",
       " (('file',), 4928),\n",
       " (('-',), 4911),\n",
       " (('user',), 4637),\n",
       " (('--',), 4520),\n",
       " (('good',), 4482),\n",
       " (('video',), 4060),\n",
       " (('easy',), 3983),\n",
       " (('problem',), 3842),\n",
       " (('office',), 3711),\n",
       " (('great',), 3527),\n",
       " (('thing',), 3374),\n",
       " (('norton',), 3303),\n",
       " (('tax',), 3131),\n",
       " (('microsoft',), 3092),\n",
       " (('install',), 3063),\n",
       " (('update',), 3054),\n",
       " (('lot',), 2835),\n",
       " (('7',), 2809),\n",
       " (('mac',), 2792),\n",
       " (('upgrade',), 2777),\n",
       " (('photo',), 2410),\n",
       " (('security',), 2352),\n",
       " (('pro',), 2318),\n",
       " (('free',), 2274),\n",
       " (('price',), 2265),\n",
       " (('support',), 2213),\n",
       " (('installed',), 2201),\n",
       " (('review',), 2181),\n",
       " (('tool',), 2172),\n",
       " (('option',), 2135),\n",
       " (('issue',), 2100),\n",
       " (('quicken',), 2079),\n",
       " (('installation',), 2009),\n",
       " (('vista',), 1981),\n",
       " (('editing',), 1957),\n",
       " (('drive',), 1950),\n",
       " (('interface',), 1946),\n",
       " (('xp',), 1942),\n",
       " (('corel',), 1931),\n",
       " (('internet',), 1880),\n",
       " (('word',), 1836),\n",
       " (('running',), 1804),\n",
       " (('data',), 1710),\n",
       " (('bit',), 1696),\n",
       " (('2',), 1660),\n",
       " (('game',), 1655),\n",
       " (('people',), 1649),\n",
       " (('8',), 1649),\n",
       " (('start',), 1634),\n",
       " (('day',), 1623),\n",
       " (('download',), 1612),\n",
       " (('business',), 1612),\n",
       " (('buy',), 1594),\n",
       " (('screen',), 1582),\n",
       " (('device',), 1565),\n",
       " (('3',), 1535),\n",
       " (('pretty',), 1534),\n",
       " (('online',), 1532),\n",
       " (('set',), 1518),\n",
       " (('application',), 1508),\n",
       " (('hard',), 1494),\n",
       " (('recommend',), 1492),\n",
       " (('suite',), 1459),\n",
       " (('simple',), 1442),\n",
       " (('document',), 1424),\n",
       " (('machine',), 1412),\n",
       " (('laptop',), 1407),\n",
       " (('turbotax',), 1389),\n",
       " (('basic',), 1351),\n",
       " (('10',), 1344),\n",
       " (('long',), 1333),\n",
       " (('package',), 1328),\n",
       " (('account',), 1309),\n",
       " (('nice',), 1306),\n",
       " (('form',), 1296),\n",
       " (('1',), 1296),\n",
       " (('virus',), 1294),\n",
       " (('money',), 1286),\n",
       " (('5',), 1236),\n",
       " (('open',), 1233),\n",
       " (('protection',), 1226),\n",
       " (('return',), 1220),\n",
       " (('learning',), 1209),\n",
       " (('image',), 1204),\n",
       " (('process',), 1202),\n",
       " (('number',), 1202),\n",
       " (('create',), 1189),\n",
       " (('backup',), 1181),\n",
       " (('experience',), 1166),\n",
       " (('worked',), 1163)]"
      ]
     },
     "execution_count": 227,
     "metadata": {},
     "output_type": "execute_result"
    }
   ],
   "source": [
    "sf_ngrs = get_ngrams(sf_data, n=1)\n",
    "sf_ngrs.most_common(100)"
   ]
  },
  {
   "cell_type": "code",
   "execution_count": 238,
   "id": "00284439",
   "metadata": {
    "scrolled": true
   },
   "outputs": [
    {
     "data": {
      "application/vnd.jupyter.widget-view+json": {
       "model_id": "",
       "version_major": 2,
       "version_minor": 0
      },
      "text/plain": [
       "  0%|          | 0/12804 [00:00<?, ?it/s]"
      ]
     },
     "metadata": {},
     "output_type": "display_data"
    },
    {
     "data": {
      "text/plain": [
       "[(('--', '--'), 2361),\n",
       " (('window', '7'), 2002),\n",
       " (('window', '8'), 1026),\n",
       " (('hard', 'drive'), 769),\n",
       " (('internet', 'security'), 746),\n",
       " (('window', 'xp'), 598),\n",
       " (('turbo', 'tax'), 596),\n",
       " (('product-link-linked', 'a-link-normal'), 581),\n",
       " (('previous', 'version'), 523),\n",
       " (('microsoft', 'office'), 522),\n",
       " (('video', 'editing'), 516),\n",
       " (('nbsp', 'product-link-linked'), 504),\n",
       " (('learning', 'curve'), 462),\n",
       " (('trend', 'micro'), 454),\n",
       " (('year', 'ago'), 451),\n",
       " (('user', 'interface'), 433),\n",
       " (('easy', 'install'), 351),\n",
       " (('norton', '360'), 350),\n",
       " (('long', 'time'), 349),\n",
       " (('window', '10'), 344),\n",
       " (('rosetta', 'stone'), 344),\n",
       " (('highly', 'recommend'), 331),\n",
       " (('photo', 'editing'), 331),\n",
       " (('paintshop', 'pro'), 328),\n",
       " (('small', 'business'), 310),\n",
       " (('work', 'great'), 304),\n",
       " (('running', 'window'), 303),\n",
       " (('older', 'version'), 291),\n",
       " (('editing', 'software'), 276),\n",
       " (('web', 'site'), 275),\n",
       " (('window', 'vista'), 274),\n",
       " (('office', '2007'), 265),\n",
       " (('great', 'product'), 262),\n",
       " (('security', 'software'), 260),\n",
       " (('program', 'work'), 258),\n",
       " (('user', 'friendly'), 253),\n",
       " (('version', 'window'), 247),\n",
       " (('tech', 'support'), 246),\n",
       " (('tax', 'software'), 244),\n",
       " (('nancy', 'drew'), 243),\n",
       " (('64', 'bit'), 242),\n",
       " (('credit', 'card'), 241),\n",
       " (('family', 'tree'), 236),\n",
       " (('street', 'trip'), 236),\n",
       " (('customer', 'service'), 229),\n",
       " (('software', 'package'), 228),\n",
       " (('work', 'fine'), 227),\n",
       " (('good', 'product'), 225),\n",
       " (('tax', 'return'), 224),\n",
       " (('version', 'office'), 222),\n",
       " (('norton', 'security'), 219),\n",
       " (('earlier', 'version'), 218),\n",
       " (('win', '7'), 218),\n",
       " (('pretty', 'good'), 217),\n",
       " (('5', 'star'), 214),\n",
       " (('pinnacle', 'studio'), 212),\n",
       " (('highly', 'recommended'), 209),\n",
       " (('latest', 'version'), 207),\n",
       " (('office', 'suite'), 205),\n",
       " (('year', 'year'), 202),\n",
       " (('software', 'work'), 202),\n",
       " (('photoshop', 'element'), 199),\n",
       " (('piece', 'software'), 197),\n",
       " (('security', 'suite'), 197),\n",
       " (('norton', 'internet'), 196),\n",
       " (('good', 'job'), 196),\n",
       " (('version', 'software'), 194),\n",
       " (('norton', 'product'), 184),\n",
       " (('snow', 'leopard'), 183),\n",
       " (('start', 'menu'), 182),\n",
       " (('mac', 'version'), 181),\n",
       " (('window', 'version'), 175),\n",
       " (('dragon', 'dictate'), 174),\n",
       " (('error', 'message'), 171),\n",
       " (('adobe', 'photoshop'), 170),\n",
       " (('tax', 'year'), 170),\n",
       " (('virus', 'protection'), 169),\n",
       " (('software', 'year'), 167),\n",
       " (('product', 'year'), 165),\n",
       " (('customer', 'support'), 163),\n",
       " (('word', 'excel'), 162),\n",
       " (('clean', 'install'), 162),\n",
       " (('editing', 'program'), 160),\n",
       " (('office', '2010'), 159),\n",
       " (('4', 'star'), 157),\n",
       " (('service', 'pack'), 157),\n",
       " (('turbotax', 'year'), 156),\n",
       " (('file', 'format'), 152),\n",
       " (('video', 'file'), 151),\n",
       " (('product', 'work'), 151),\n",
       " (('office', '2008'), 151),\n",
       " (('recommend', 'product'), 150),\n",
       " (('--', '-'), 149),\n",
       " (('10', 'year'), 149),\n",
       " (('corel', 'videostudio'), 149),\n",
       " (('software', 'program'), 148),\n",
       " (('product', 'key'), 147),\n",
       " (('pdf', 'file'), 146),\n",
       " (('nice', 'feature'), 145),\n",
       " (('norton', 'antivirus'), 145)]"
      ]
     },
     "execution_count": 238,
     "metadata": {},
     "output_type": "execute_result"
    }
   ],
   "source": [
    "sf_ngrs = get_ngrams(sf_data, n=2)\n",
    "sf_ngrs.most_common(100)"
   ]
  },
  {
   "cell_type": "markdown",
   "id": "d2d810df",
   "metadata": {},
   "source": [
    "### Способ 2"
   ]
  },
  {
   "cell_type": "code",
   "execution_count": 256,
   "id": "15336c81",
   "metadata": {},
   "outputs": [
    {
     "data": {
      "application/vnd.jupyter.widget-view+json": {
       "model_id": "8429f3b5c5bb46e89635468b923d6549",
       "version_major": 2,
       "version_minor": 0
      },
      "text/plain": [
       "  0%|          | 0/100000 [00:00<?, ?it/s]"
      ]
     },
     "metadata": {},
     "output_type": "display_data"
    },
    {
     "data": {
      "application/vnd.jupyter.widget-view+json": {
       "model_id": "a7f1f161bc13401fbd8e416f55192874",
       "version_major": 2,
       "version_minor": 0
      },
      "text/plain": [
       "  0%|          | 0/100000 [00:00<?, ?it/s]"
      ]
     },
     "metadata": {},
     "output_type": "display_data"
    }
   ],
   "source": [
    "sw_ngrs = get_ngrams(sw_data[:10 ** 5])\n",
    "cg_ngrs = get_ngrams(cg_data[:10 ** 5])\n",
    "\n",
    "sw_set = set([el[0] for el in sw_ngrs.most_common(200)])\n",
    "cg_set = set([el[0] for el in cg_ngrs.most_common(200)])"
   ]
  },
  {
   "cell_type": "markdown",
   "id": "6ccd2217",
   "metadata": {},
   "source": [
    "Посмотрим сначала на одном из дополнительных, но тут как-то не очень"
   ]
  },
  {
   "cell_type": "code",
   "execution_count": 261,
   "id": "d81a4f4f",
   "metadata": {},
   "outputs": [],
   "source": [
    "cg_all = {el: cg_ngrs[el] for el in cg_set - sw_set}"
   ]
  },
  {
   "cell_type": "code",
   "execution_count": 262,
   "id": "c081ddad",
   "metadata": {},
   "outputs": [
    {
     "data": {
      "text/plain": [
       "[(('game', 'play'), 10440),\n",
       " (('great', 'game'), 8986),\n",
       " (('game', 'game'), 8938),\n",
       " (('play', 'game'), 7753),\n",
       " (('final', 'fantasy'), 7022),\n",
       " (('video', 'game'), 6956),\n",
       " (('game', 'fun'), 5981),\n",
       " (('good', 'game'), 5950),\n",
       " (('game', 'great'), 5908),\n",
       " (('game', 'played'), 5613),\n",
       " (('game', 'good'), 5348),\n",
       " (('playing', 'game'), 5284),\n",
       " (('fun', 'game'), 5271),\n",
       " (('--', '--'), 4668),\n",
       " (('love', 'game'), 3902),\n",
       " (('game', 'time'), 3831),\n",
       " (('buy', 'game'), 3579),\n",
       " (('super', 'mario'), 3561),\n",
       " (('played', 'game'), 3476),\n",
       " (('single', 'player'), 3383),\n",
       " (('resident', 'evil'), 3342),\n",
       " (('thing', 'game'), 3306),\n",
       " (('voice', 'acting'), 3137),\n",
       " (('star', 'war'), 3092),\n",
       " (('game', 'graphic'), 3027),\n",
       " (('lot', 'fun'), 2901),\n",
       " (('fun', 'play'), 2858),\n",
       " (('game', 'lot'), 2820),\n",
       " (('time', 'game'), 2796),\n",
       " (('xbox', '360'), 2789),\n",
       " (('game', 'worth'), 2427),\n",
       " (('fighting', 'game'), 2269),\n",
       " (('game', 'pretty'), 2242),\n",
       " (('game', 'boy'), 2241),\n",
       " (('metal', 'gear'), 2152),\n",
       " (('mega', 'man'), 2127),\n",
       " (('graphic', 'good'), 2111),\n",
       " (('graphic', 'game'), 2078),\n",
       " (('beat', 'game'), 2068),\n",
       " (('racing', 'game'), 2066),\n",
       " (('recommend', 'game'), 2041),\n",
       " (('memory', 'card'), 1961),\n",
       " (('bought', 'game'), 1950),\n",
       " (('person', 'shooter'), 1927),\n",
       " (('game', 'year'), 1915),\n",
       " (('sound', 'effect'), 1859),\n",
       " (('cut', 'scene'), 1844),\n",
       " (('graphic', 'great'), 1829),\n",
       " (('great', 'graphic'), 1820),\n",
       " (('silent', 'hill'), 1818),\n",
       " (('game', 'buy'), 1808),\n",
       " (('main', 'character'), 1730),\n",
       " (('game', 'series'), 1693),\n",
       " (('graphic', 'sound'), 1693),\n",
       " (('game', 'feel'), 1650),\n",
       " (('game', 'story'), 1637),\n",
       " (('game', 'love'), 1592),\n",
       " (('xbox', 'live'), 1591),\n",
       " (('bad', 'guy'), 1571),\n",
       " (('expansion', 'pack'), 1566),\n",
       " (('problem', 'game'), 1565),\n",
       " (('character', 'game'), 1560),\n",
       " (('action', 'game'), 1546),\n",
       " (('favorite', 'game'), 1540),\n",
       " (('playstation', '2'), 1535),\n",
       " (('game', 'hard'), 1534),\n",
       " (('game', 'playing'), 1505),\n",
       " (('story', 'mode'), 1487),\n",
       " (('grand', 'theft'), 1486),\n",
       " (('game', 'easy'), 1478),\n",
       " (('theft', 'auto'), 1473),\n",
       " (('original', 'game'), 1458),\n",
       " (('ps2', 'game'), 1437),\n",
       " (('type', 'game'), 1413),\n",
       " (('mario', 'kart'), 1406),\n",
       " (('mario', 'game'), 1399),\n",
       " (('game', 'character'), 1398),\n",
       " (('game', 'start'), 1379),\n",
       " (('game', 'thing'), 1372),\n",
       " (('adventure', 'game'), 1370),\n",
       " (('level', 'game'), 1354),\n",
       " (('good', 'graphic'), 1348),\n",
       " (('2', 'game'), 1346),\n",
       " (('enjoy', 'game'), 1345),\n",
       " (('previous', 'game'), 1339),\n",
       " (('gear', 'solid'), 1338),\n",
       " (('aspect', 'game'), 1338),\n",
       " (('game', 'long'), 1335),\n",
       " (('game', '-'), 1325),\n",
       " (('player', 'game'), 1324),\n",
       " (('bad', 'game'), 1318),\n",
       " (('version', 'game'), 1299),\n",
       " (('point', 'game'), 1291),\n",
       " (('game', 'bad'), 1270),\n",
       " (('game', 'awesome'), 1269),\n",
       " (('story', 'game'), 1259),\n",
       " (('mortal', 'kombat'), 1252),\n",
       " (('awesome', 'game'), 1247),\n",
       " (('halo', '2'), 1247),\n",
       " (('game', 'ps2'), 1245),\n",
       " (('camera', 'angle'), 1232),\n",
       " (('street', 'fighter'), 1226),\n",
       " (('game', 'work'), 1219),\n",
       " (('game', 'released'), 1208),\n",
       " (('review', 'game'), 1189),\n",
       " (('1', '2'), 1184),\n",
       " (('online', 'play'), 1180),\n",
       " (('bad', 'thing'), 1155),\n",
       " (('vice', 'city'), 1150),\n",
       " (('game', 'take'), 1149),\n",
       " (('level', 'design'), 1145),\n",
       " (('strategy', 'game'), 1139),\n",
       " (('real', 'life'), 1135),\n",
       " (('game', 'control'), 1127),\n",
       " (('zelda', 'game'), 1121),\n",
       " (('time', 'play'), 1117),\n",
       " (('game', 'people'), 1091),\n",
       " (('game', 'short'), 1088),\n",
       " (('mini', 'game'), 1073),\n",
       " (('fantasy', 'game'), 1063),\n",
       " (('lot', 'game'), 1061),\n",
       " (('game', 'level'), 1060),\n",
       " (('war', 'game'), 1060),\n",
       " (('difficulty', 'level'), 1040),\n",
       " (('game', 'feature'), 1037),\n",
       " (('start', 'game'), 1035),\n",
       " (('game', 'amazing'), 1030),\n",
       " (('splinter', 'cell'), 1021),\n",
       " (('hour', 'game'), 1017),\n",
       " (('game', 'day'), 1016),\n",
       " (('game', 'bit'), 1007),\n",
       " (('save', 'game'), 1002),\n",
       " (('-', 'game'), 999),\n",
       " (('bos', 'battle'), 992),\n",
       " (('load', 'time'), 988),\n",
       " (('entire', 'game'), 981),\n",
       " (('series', 'game'), 981),\n",
       " (('take', 'place'), 978),\n",
       " (('donkey', 'kong'), 972),\n",
       " (('game', 'xbox'), 969),\n",
       " (('game', 'perfect'), 967),\n",
       " (('time', 'time'), 965),\n",
       " (('nintendo', '64'), 955),\n",
       " (('bos', 'fight'), 955),\n",
       " (('analog', 'stick'), 946),\n",
       " (('game', 'player'), 946),\n",
       " (('great', 'story'), 945),\n",
       " (('pretty', 'cool'), 945),\n",
       " (('people', 'game'), 942),\n",
       " (('feel', 'game'), 939),\n",
       " (('arcade', 'game'), 933),\n",
       " (('game', 'fan'), 930),\n",
       " (('player', 'mode'), 922),\n",
       " (('feature', 'game'), 916),\n",
       " (('game', 'console'), 912),\n",
       " (('game', 'offer'), 909),\n",
       " (('mario', '64'), 906),\n",
       " (('game', 'recommend'), 902),\n",
       " (('fun', 'playing'), 893),\n",
       " (('puzzle', 'game'), 890),\n",
       " (('fan', 'game'), 886),\n",
       " (('boy', 'advance'), 886),\n",
       " (('classic', 'game'), 874),\n",
       " (('game', 'simply'), 867),\n",
       " (('excellent', 'game'), 866),\n",
       " (('super', 'nintendo'), 862),\n",
       " (('amazing', 'game'), 859),\n",
       " (('play', 'time'), 856),\n",
       " (('legend', 'zelda'), 848),\n",
       " (('game', '5'), 845),\n",
       " (('tony', 'hawk'), 844),\n",
       " (('multiplayer', 'game'), 843),\n",
       " (('metroid', 'prime'), 840),\n",
       " (('gameplay', 'game'), 840),\n",
       " (('control', 'game'), 838),\n",
       " (('game', 'original'), 838),\n",
       " (('great', 'fun'), 835),\n",
       " (('game', 'enjoy'), 831),\n",
       " (('game', 'bought'), 831),\n",
       " (('san', 'andreas'), 830),\n",
       " (('mario', 'party'), 827),\n",
       " (('lot', 'time'), 820),\n",
       " (('good', 'story'), 812),\n",
       " (('machine', 'gun'), 812),\n",
       " (('max', 'payne'), 802),\n",
       " (('doom', '3'), 801),\n",
       " (('2', '3'), 797),\n",
       " (('finish', 'game'), 789)]"
      ]
     },
     "execution_count": 262,
     "metadata": {},
     "output_type": "execute_result"
    }
   ],
   "source": [
    "sorted(cg_all.items(), key=lambda x: x[1], reverse=True)"
   ]
  },
  {
   "cell_type": "markdown",
   "id": "4cfe477f",
   "metadata": {},
   "source": [
    "Теперь на основном"
   ]
  },
  {
   "cell_type": "code",
   "execution_count": 257,
   "id": "1f8b6ab0",
   "metadata": {},
   "outputs": [],
   "source": [
    "sf_set = set([el[0] for el in sf_ngrs.most_common(200)])"
   ]
  },
  {
   "cell_type": "code",
   "execution_count": 258,
   "id": "ee5b9ad3",
   "metadata": {},
   "outputs": [],
   "source": [
    "sf_all = {el: sf_ngrs[el] for el in sf_set - sw_set}\n",
    "sf_other = {el: sf_ngrs[el] for el in sf_set & sw_set}"
   ]
  },
  {
   "cell_type": "code",
   "execution_count": 259,
   "id": "bb1221eb",
   "metadata": {},
   "outputs": [
    {
     "data": {
      "text/plain": [
       "[(('--', '--'), 2361),\n",
       " (('window', '7'), 2002),\n",
       " (('window', '8'), 1026),\n",
       " (('hard', 'drive'), 769),\n",
       " (('internet', 'security'), 746),\n",
       " (('window', 'xp'), 598),\n",
       " (('turbo', 'tax'), 596),\n",
       " (('previous', 'version'), 523),\n",
       " (('microsoft', 'office'), 522),\n",
       " (('video', 'editing'), 516),\n",
       " (('learning', 'curve'), 462),\n",
       " (('trend', 'micro'), 454),\n",
       " (('user', 'interface'), 433),\n",
       " (('easy', 'install'), 351),\n",
       " (('norton', '360'), 350),\n",
       " (('window', '10'), 344),\n",
       " (('rosetta', 'stone'), 344),\n",
       " (('photo', 'editing'), 331),\n",
       " (('paintshop', 'pro'), 328),\n",
       " (('small', 'business'), 310),\n",
       " (('running', 'window'), 303),\n",
       " (('older', 'version'), 291),\n",
       " (('editing', 'software'), 276),\n",
       " (('web', 'site'), 275),\n",
       " (('window', 'vista'), 274),\n",
       " (('office', '2007'), 265),\n",
       " (('security', 'software'), 260),\n",
       " (('program', 'work'), 258),\n",
       " (('user', 'friendly'), 253),\n",
       " (('version', 'window'), 247),\n",
       " (('tech', 'support'), 246),\n",
       " (('tax', 'software'), 244),\n",
       " (('nancy', 'drew'), 243),\n",
       " (('64', 'bit'), 242),\n",
       " (('credit', 'card'), 241),\n",
       " (('street', 'trip'), 236),\n",
       " (('family', 'tree'), 236),\n",
       " (('customer', 'service'), 229),\n",
       " (('software', 'package'), 228),\n",
       " (('tax', 'return'), 224),\n",
       " (('version', 'office'), 222),\n",
       " (('norton', 'security'), 219),\n",
       " (('earlier', 'version'), 218),\n",
       " (('win', '7'), 218),\n",
       " (('pinnacle', 'studio'), 212),\n",
       " (('latest', 'version'), 207),\n",
       " (('office', 'suite'), 205),\n",
       " (('software', 'work'), 202),\n",
       " (('year', 'year'), 202),\n",
       " (('photoshop', 'element'), 199),\n",
       " (('security', 'suite'), 197),\n",
       " (('piece', 'software'), 197),\n",
       " (('norton', 'internet'), 196),\n",
       " (('good', 'job'), 196),\n",
       " (('version', 'software'), 194),\n",
       " (('norton', 'product'), 184),\n",
       " (('snow', 'leopard'), 183),\n",
       " (('start', 'menu'), 182),\n",
       " (('mac', 'version'), 181),\n",
       " (('window', 'version'), 175),\n",
       " (('dragon', 'dictate'), 174),\n",
       " (('error', 'message'), 171),\n",
       " (('adobe', 'photoshop'), 170),\n",
       " (('tax', 'year'), 170),\n",
       " (('virus', 'protection'), 169),\n",
       " (('software', 'year'), 167),\n",
       " (('product', 'year'), 165),\n",
       " (('customer', 'support'), 163),\n",
       " (('clean', 'install'), 162),\n",
       " (('word', 'excel'), 162),\n",
       " (('editing', 'program'), 160),\n",
       " (('office', '2010'), 159),\n",
       " (('service', 'pack'), 157),\n",
       " (('turbotax', 'year'), 156),\n",
       " (('file', 'format'), 152),\n",
       " (('video', 'file'), 151),\n",
       " (('office', '2008'), 151),\n",
       " (('corel', 'videostudio'), 149),\n",
       " (('10', 'year'), 149),\n",
       " (('--', '-'), 149),\n",
       " (('software', 'program'), 148),\n",
       " (('product', 'key'), 147),\n",
       " (('pdf', 'file'), 146),\n",
       " (('norton', 'antivirus'), 145),\n",
       " (('nice', 'feature'), 145),\n",
       " (('videostudio', 'pro'), 144),\n",
       " (('internet', 'explorer'), 144),\n",
       " (('word', 'processing'), 142),\n",
       " (('mac', 'user'), 138),\n",
       " (('wordperfect', 'office'), 138),\n",
       " (('software', 'installed'), 137),\n",
       " (('gb', 'ram'), 136),\n",
       " (('parental', 'control'), 136),\n",
       " (('software', 'easy'), 136),\n",
       " (('medium', 'player'), 135),\n",
       " (('state', 'tax'), 134),\n",
       " (('operating', 'system'), 133),\n",
       " (('state', 'return'), 132),\n",
       " (('office', '2003'), 131),\n",
       " (('video', 'editor'), 131),\n",
       " (('pro', 'x4'), 130),\n",
       " (('work', 'window'), 129),\n",
       " (('office', '365'), 129),\n",
       " (('power', 'user'), 128),\n",
       " (('drew', 'game'), 128),\n",
       " (('office', '2013'), 127),\n",
       " (('previous', 'year'), 127),\n",
       " (('medium', 'center'), 126),\n",
       " (('lot', 'time'), 125),\n",
       " (('newer', 'version'), 125),\n",
       " (('window', 'medium'), 125),\n",
       " (('technical', 'support'), 124),\n",
       " (('update', 'review'), 124),\n",
       " (('upgrade', 'window'), 124),\n",
       " (('control', 'panel'), 124),\n",
       " (('sage', '50'), 124),\n",
       " (('year', 'tax'), 124),\n",
       " (('microsoft', 'word'), 123),\n",
       " (('corel', 'painter'), 123),\n",
       " (('install', 'software'), 121),\n",
       " (('software', 'computer'), 120),\n",
       " (('year', 'version'), 119),\n",
       " (('7', 'window'), 119),\n",
       " (('program', 'year'), 118),\n",
       " (('microsoft', 'product'), 118),\n",
       " (('xp', 'vista'), 118),\n",
       " (('serial', 'number'), 117),\n",
       " (('free', 'version'), 117),\n",
       " (('30', 'day'), 117),\n",
       " (('tree', 'maker'), 117),\n",
       " (('tax', 'form'), 117),\n",
       " (('bell', 'whistle'), 116),\n",
       " (('office', 'mac'), 115),\n",
       " (('great', 'feature'), 115),\n",
       " (('anti-virus', 'software'), 114),\n",
       " (('macbook', 'pro'), 114),\n",
       " (('good', 'program'), 114),\n",
       " (('10', 'minute'), 113),\n",
       " (('install', 'window'), 113),\n",
       " (('special', 'effect'), 113),\n",
       " (('paint', 'shop'), 112),\n",
       " (('worked', 'fine'), 112),\n",
       " (('security', 'program'), 110),\n",
       " (('software', 'good'), 110),\n",
       " (('movie', 'maker'), 109),\n",
       " (('antivirus', 'software'), 109),\n",
       " (('microsoft', 'window'), 107),\n",
       " (('start', 'button'), 107),\n",
       " (('spend', 'time'), 107),\n",
       " (('antivirus', 'program'), 107),\n",
       " (('shop', 'pro'), 107),\n",
       " (('window', 'mac'), 106),\n",
       " (('slow', 'computer'), 106),\n",
       " (('federal', 'state'), 105),\n",
       " (('computer', 'running'), 105),\n",
       " (('word', 'perfect'), 105),\n",
       " (('internet', 'connection'), 105),\n",
       " (('quicken', 'mac'), 104),\n",
       " (('trial', 'version'), 104),\n",
       " (('program', 'easy'), 103),\n",
       " (('vista', 'window'), 103),\n",
       " (('word', 'document'), 102),\n",
       " (('anti-virus', 'program'), 102),\n",
       " (('xp', 'pro'), 101),\n",
       " (('5', 'year'), 101),\n",
       " (('kaspersky', 'internet'), 101),\n",
       " (('data', 'file'), 101),\n",
       " (('program', 'computer'), 100),\n",
       " (('adobe', 'premiere'), 100),\n",
       " (('20', 'year'), 100),\n",
       " (('photo', 'video'), 100),\n",
       " (('3', 'year'), 100),\n",
       " (('year', 'turbotax'), 99),\n",
       " (('version', 'version'), 99),\n",
       " (('installation', 'easy'), 99),\n",
       " (('upgrade', 'version'), 99),\n",
       " (('program', 'installed'), 98),\n",
       " (('pro', 'version'), 98),\n",
       " (('computer', 'window'), 98),\n",
       " (('2', 'year'), 98)]"
      ]
     },
     "execution_count": 259,
     "metadata": {},
     "output_type": "execute_result"
    }
   ],
   "source": [
    "sorted(sf_all.items(), key=lambda x: x[1], reverse=True)"
   ]
  },
  {
   "cell_type": "code",
   "execution_count": 260,
   "id": "9430f348",
   "metadata": {},
   "outputs": [
    {
     "data": {
      "text/plain": [
       "[(('product-link-linked', 'a-link-normal'), 581),\n",
       " (('nbsp', 'product-link-linked'), 504),\n",
       " (('year', 'ago'), 451),\n",
       " (('long', 'time'), 349),\n",
       " (('highly', 'recommend'), 331),\n",
       " (('work', 'great'), 304),\n",
       " (('great', 'product'), 262),\n",
       " (('work', 'fine'), 227),\n",
       " (('good', 'product'), 225),\n",
       " (('pretty', 'good'), 217),\n",
       " (('5', 'star'), 214),\n",
       " (('highly', 'recommended'), 209),\n",
       " (('4', 'star'), 157),\n",
       " (('product', 'work'), 151),\n",
       " (('recommend', 'product'), 150),\n",
       " (('good', 'thing'), 133),\n",
       " (('great', 'deal'), 119),\n",
       " (('worth', 'price'), 117),\n",
       " (('great', 'price'), 104),\n",
       " (('read', 'review'), 99)]"
      ]
     },
     "execution_count": 260,
     "metadata": {},
     "output_type": "execute_result"
    }
   ],
   "source": [
    "sorted(sf_other.items(), key=lambda x: x[1], reverse=True)"
   ]
  },
  {
   "cell_type": "markdown",
   "id": "0e7e753c",
   "metadata": {},
   "source": [
    "### Способ 3"
   ]
  },
  {
   "cell_type": "markdown",
   "id": "7645f2bd",
   "metadata": {},
   "source": [
    "Всякая предобработка корпуса"
   ]
  },
  {
   "cell_type": "code",
   "execution_count": 269,
   "id": "19df62b1",
   "metadata": {},
   "outputs": [],
   "source": [
    "corpus = pd.DataFrame()\n",
    "corpus['text'] = sw_data + cg_data\n",
    "corpus['class'] = [0 for _ in sw_data] + [1 for _ in cg_data]"
   ]
  },
  {
   "cell_type": "code",
   "execution_count": 270,
   "id": "ff4b8dd4",
   "metadata": {},
   "outputs": [
    {
     "data": {
      "text/html": [
       "<div>\n",
       "<style scoped>\n",
       "    .dataframe tbody tr th:only-of-type {\n",
       "        vertical-align: middle;\n",
       "    }\n",
       "\n",
       "    .dataframe tbody tr th {\n",
       "        vertical-align: top;\n",
       "    }\n",
       "\n",
       "    .dataframe thead th {\n",
       "        text-align: right;\n",
       "    }\n",
       "</style>\n",
       "<table border=\"1\" class=\"dataframe\">\n",
       "  <thead>\n",
       "    <tr style=\"text-align: right;\">\n",
       "      <th></th>\n",
       "      <th>text</th>\n",
       "      <th>class</th>\n",
       "    </tr>\n",
       "  </thead>\n",
       "  <tbody>\n",
       "    <tr>\n",
       "      <th>0</th>\n",
       "      <td>Contains some interesting stitches.</td>\n",
       "      <td>1</td>\n",
       "    </tr>\n",
       "    <tr>\n",
       "      <th>1</th>\n",
       "      <td>I'm a fairly experienced knitter of the one-co...</td>\n",
       "      <td>1</td>\n",
       "    </tr>\n",
       "    <tr>\n",
       "      <th>2</th>\n",
       "      <td>Great book but the index is terrible. Had to w...</td>\n",
       "      <td>1</td>\n",
       "    </tr>\n",
       "    <tr>\n",
       "      <th>3</th>\n",
       "      <td>I purchased the Kindle edition which is incred...</td>\n",
       "      <td>1</td>\n",
       "    </tr>\n",
       "    <tr>\n",
       "      <th>4</th>\n",
       "      <td>Very well laid out and very easy to read.\\n\\nT...</td>\n",
       "      <td>1</td>\n",
       "    </tr>\n",
       "  </tbody>\n",
       "</table>\n",
       "</div>"
      ],
      "text/plain": [
       "                                                text  class\n",
       "0                Contains some interesting stitches.      1\n",
       "1  I'm a fairly experienced knitter of the one-co...      1\n",
       "2  Great book but the index is terrible. Had to w...      1\n",
       "3  I purchased the Kindle edition which is incred...      1\n",
       "4  Very well laid out and very easy to read.\\n\\nT...      1"
      ]
     },
     "execution_count": 270,
     "metadata": {},
     "output_type": "execute_result"
    }
   ],
   "source": [
    "corpus.head()"
   ]
  },
  {
   "cell_type": "code",
   "execution_count": 271,
   "id": "045920b8",
   "metadata": {},
   "outputs": [],
   "source": [
    "lemmatizer = WordNetLemmatizer()\n",
    "cache = {}"
   ]
  },
  {
   "cell_type": "code",
   "execution_count": 105,
   "id": "24f1e813",
   "metadata": {},
   "outputs": [
    {
     "data": {
      "application/vnd.jupyter.widget-view+json": {
       "model_id": "947f55a299864780868f5b04d5f6a401",
       "version_major": 2,
       "version_minor": 0
      },
      "text/plain": [
       "  0%|          | 0/991615 [00:00<?, ?it/s]"
      ]
     },
     "metadata": {},
     "output_type": "display_data"
    }
   ],
   "source": [
    "tqdm.pandas()\n",
    "corpus['clean_text'] = corpus.text.progress_apply(preprocess)"
   ]
  },
  {
   "cell_type": "code",
   "execution_count": 272,
   "id": "2e961732",
   "metadata": {},
   "outputs": [],
   "source": [
    "# corpus.to_csv('corpus.csv', index=False)\n",
    "corpus = pd.read_csv('corpus.csv')\n",
    "corpus['class'] = 1 - corpus['class']"
   ]
  },
  {
   "cell_type": "code",
   "execution_count": 273,
   "id": "c120b521",
   "metadata": {},
   "outputs": [
    {
     "data": {
      "text/html": [
       "<div>\n",
       "<style scoped>\n",
       "    .dataframe tbody tr th:only-of-type {\n",
       "        vertical-align: middle;\n",
       "    }\n",
       "\n",
       "    .dataframe tbody tr th {\n",
       "        vertical-align: top;\n",
       "    }\n",
       "\n",
       "    .dataframe thead th {\n",
       "        text-align: right;\n",
       "    }\n",
       "</style>\n",
       "<table border=\"1\" class=\"dataframe\">\n",
       "  <thead>\n",
       "    <tr style=\"text-align: right;\">\n",
       "      <th></th>\n",
       "      <th>text</th>\n",
       "      <th>class</th>\n",
       "      <th>clean_text</th>\n",
       "    </tr>\n",
       "  </thead>\n",
       "  <tbody>\n",
       "    <tr>\n",
       "      <th>0</th>\n",
       "      <td>Contains some interesting stitches.</td>\n",
       "      <td>1</td>\n",
       "      <td>interesting stitch</td>\n",
       "    </tr>\n",
       "    <tr>\n",
       "      <th>1</th>\n",
       "      <td>I'm a fairly experienced knitter of the one-co...</td>\n",
       "      <td>1</td>\n",
       "      <td>fairly experienced knitter one-color color blo...</td>\n",
       "    </tr>\n",
       "    <tr>\n",
       "      <th>2</th>\n",
       "      <td>Great book but the index is terrible. Had to w...</td>\n",
       "      <td>1</td>\n",
       "      <td>great book terrible write high light cross info</td>\n",
       "    </tr>\n",
       "    <tr>\n",
       "      <th>3</th>\n",
       "      <td>I purchased the Kindle edition which is incred...</td>\n",
       "      <td>1</td>\n",
       "      <td>purchased kindle edition incredibly handy trav...</td>\n",
       "    </tr>\n",
       "    <tr>\n",
       "      <th>4</th>\n",
       "      <td>Very well laid out and very easy to read.\\n\\nT...</td>\n",
       "      <td>1</td>\n",
       "      <td>laid easy read book nice size big larger prese...</td>\n",
       "    </tr>\n",
       "  </tbody>\n",
       "</table>\n",
       "</div>"
      ],
      "text/plain": [
       "                                                text  class  \\\n",
       "0                Contains some interesting stitches.      1   \n",
       "1  I'm a fairly experienced knitter of the one-co...      1   \n",
       "2  Great book but the index is terrible. Had to w...      1   \n",
       "3  I purchased the Kindle edition which is incred...      1   \n",
       "4  Very well laid out and very easy to read.\\n\\nT...      1   \n",
       "\n",
       "                                          clean_text  \n",
       "0                                 interesting stitch  \n",
       "1  fairly experienced knitter one-color color blo...  \n",
       "2    great book terrible write high light cross info  \n",
       "3  purchased kindle edition incredibly handy trav...  \n",
       "4  laid easy read book nice size big larger prese...  "
      ]
     },
     "execution_count": 273,
     "metadata": {},
     "output_type": "execute_result"
    }
   ],
   "source": [
    "corpus.head()"
   ]
  },
  {
   "cell_type": "code",
   "execution_count": 274,
   "id": "152f12eb",
   "metadata": {},
   "outputs": [],
   "source": [
    "corpus = corpus.dropna()"
   ]
  },
  {
   "cell_type": "markdown",
   "id": "e8178558",
   "metadata": {},
   "source": [
    "Обучим tf-idf и будем дальше с ним работать"
   ]
  },
  {
   "cell_type": "code",
   "execution_count": 279,
   "id": "1d1aeba2",
   "metadata": {},
   "outputs": [],
   "source": [
    "tfidf = TfidfVectorizer()\n",
    "vec = tfidf.fit_transform(corpus['clean_text'])\n",
    "vocab = tfidf.get_feature_names_out()"
   ]
  },
  {
   "cell_type": "markdown",
   "id": "3c3256d1",
   "metadata": {},
   "source": [
    "Вектор долей в корпусе, так как потом возникла идея использовать это вместе с весами"
   ]
  },
  {
   "cell_type": "code",
   "execution_count": 284,
   "id": "0031b1d9",
   "metadata": {},
   "outputs": [],
   "source": [
    "def count_freq(texts, vocab):\n",
    "    cc = Counter()\n",
    "    for el in tqdm(texts):\n",
    "        cc.update(el.split())\n",
    "    res = []\n",
    "    for el in vocab:\n",
    "        res.append(cc[el])\n",
    "    res = np.array(res)\n",
    "    res = res / sum(res)\n",
    "    return res"
   ]
  },
  {
   "cell_type": "code",
   "execution_count": 285,
   "id": "bf314f0a",
   "metadata": {},
   "outputs": [
    {
     "data": {
      "application/vnd.jupyter.widget-view+json": {
       "model_id": "8aa5bf1a3ab045598288068153d3890e",
       "version_major": 2,
       "version_minor": 0
      },
      "text/plain": [
       "  0%|          | 0/483405 [00:00<?, ?it/s]"
      ]
     },
     "metadata": {},
     "output_type": "display_data"
    }
   ],
   "source": [
    "freq = count_freq(corpus[corpus['class'] == 1].clean_text, vocab)"
   ]
  },
  {
   "cell_type": "code",
   "execution_count": 287,
   "id": "00142e2b",
   "metadata": {},
   "outputs": [
    {
     "data": {
      "text/plain": [
       "((972965, 189183), (189183,), (189183,))"
      ]
     },
     "execution_count": 287,
     "metadata": {},
     "output_type": "execute_result"
    }
   ],
   "source": [
    "vec.shape, vocab.shape, freq.shape"
   ]
  },
  {
   "cell_type": "markdown",
   "id": "4f59e379",
   "metadata": {},
   "source": [
    "Регрессия"
   ]
  },
  {
   "cell_type": "code",
   "execution_count": 288,
   "id": "e7073455",
   "metadata": {},
   "outputs": [],
   "source": [
    "lr = LogisticRegression(verbose=1, n_jobs=-1, max_iter=1000)"
   ]
  },
  {
   "cell_type": "code",
   "execution_count": 289,
   "id": "04baf797",
   "metadata": {},
   "outputs": [
    {
     "name": "stderr",
     "output_type": "stream",
     "text": [
      "[Parallel(n_jobs=-1)]: Using backend LokyBackend with 10 concurrent workers.\n"
     ]
    },
    {
     "name": "stdout",
     "output_type": "stream",
     "text": [
      "RUNNING THE L-BFGS-B CODE\n",
      "\n",
      "           * * *\n",
      "\n",
      "Machine precision = 2.220D-16\n",
      " N =       189184     M =           10\n",
      "\n",
      "At X0         0 variables are exactly at the bounds\n",
      "\n",
      "At iterate    0    f=  6.74408D+05    |proj g|=  3.00858D+04\n"
     ]
    },
    {
     "name": "stderr",
     "output_type": "stream",
     "text": [
      " This problem is unconstrained.\n"
     ]
    },
    {
     "name": "stdout",
     "output_type": "stream",
     "text": [
      "\n",
      "At iterate   50    f=  1.62145D+05    |proj g|=  3.93545D+02\n",
      "\n",
      "At iterate  100    f=  1.54227D+05    |proj g|=  3.70760D+02\n",
      "\n",
      "At iterate  150    f=  1.53135D+05    |proj g|=  6.40873D+01\n",
      "\n",
      "At iterate  200    f=  1.52961D+05    |proj g|=  3.16939D+01\n",
      "\n",
      "At iterate  250    f=  1.52918D+05    |proj g|=  2.23345D+01\n",
      "\n",
      "At iterate  300    f=  1.52914D+05    |proj g|=  2.32175D+00\n",
      "\n",
      "At iterate  350    f=  1.52913D+05    |proj g|=  1.66039D+00\n",
      "\n",
      "At iterate  400    f=  1.52913D+05    |proj g|=  1.74870D+00\n",
      "\n",
      "           * * *\n",
      "\n",
      "Tit   = total number of iterations\n",
      "Tnf   = total number of function evaluations\n",
      "Tnint = total number of segments explored during Cauchy searches\n",
      "Skip  = number of BFGS updates skipped\n",
      "Nact  = number of active bounds at final generalized Cauchy point\n",
      "Projg = norm of the final projected gradient\n",
      "F     = final function value\n",
      "\n",
      "           * * *\n",
      "\n",
      "   N    Tit     Tnf  Tnint  Skip  Nact     Projg        F\n",
      "*****    402    460      1     0     0   1.184D+00   1.529D+05\n",
      "  F =   152912.76003741747     \n",
      "\n",
      "CONVERGENCE: REL_REDUCTION_OF_F_<=_FACTR*EPSMCH             \n"
     ]
    },
    {
     "name": "stderr",
     "output_type": "stream",
     "text": [
      "[Parallel(n_jobs=-1)]: Done   1 out of   1 | elapsed:   39.2s finished\n"
     ]
    },
    {
     "data": {
      "text/html": [
       "<style>#sk-container-id-8 {color: black;background-color: white;}#sk-container-id-8 pre{padding: 0;}#sk-container-id-8 div.sk-toggleable {background-color: white;}#sk-container-id-8 label.sk-toggleable__label {cursor: pointer;display: block;width: 100%;margin-bottom: 0;padding: 0.3em;box-sizing: border-box;text-align: center;}#sk-container-id-8 label.sk-toggleable__label-arrow:before {content: \"▸\";float: left;margin-right: 0.25em;color: #696969;}#sk-container-id-8 label.sk-toggleable__label-arrow:hover:before {color: black;}#sk-container-id-8 div.sk-estimator:hover label.sk-toggleable__label-arrow:before {color: black;}#sk-container-id-8 div.sk-toggleable__content {max-height: 0;max-width: 0;overflow: hidden;text-align: left;background-color: #f0f8ff;}#sk-container-id-8 div.sk-toggleable__content pre {margin: 0.2em;color: black;border-radius: 0.25em;background-color: #f0f8ff;}#sk-container-id-8 input.sk-toggleable__control:checked~div.sk-toggleable__content {max-height: 200px;max-width: 100%;overflow: auto;}#sk-container-id-8 input.sk-toggleable__control:checked~label.sk-toggleable__label-arrow:before {content: \"▾\";}#sk-container-id-8 div.sk-estimator input.sk-toggleable__control:checked~label.sk-toggleable__label {background-color: #d4ebff;}#sk-container-id-8 div.sk-label input.sk-toggleable__control:checked~label.sk-toggleable__label {background-color: #d4ebff;}#sk-container-id-8 input.sk-hidden--visually {border: 0;clip: rect(1px 1px 1px 1px);clip: rect(1px, 1px, 1px, 1px);height: 1px;margin: -1px;overflow: hidden;padding: 0;position: absolute;width: 1px;}#sk-container-id-8 div.sk-estimator {font-family: monospace;background-color: #f0f8ff;border: 1px dotted black;border-radius: 0.25em;box-sizing: border-box;margin-bottom: 0.5em;}#sk-container-id-8 div.sk-estimator:hover {background-color: #d4ebff;}#sk-container-id-8 div.sk-parallel-item::after {content: \"\";width: 100%;border-bottom: 1px solid gray;flex-grow: 1;}#sk-container-id-8 div.sk-label:hover label.sk-toggleable__label {background-color: #d4ebff;}#sk-container-id-8 div.sk-serial::before {content: \"\";position: absolute;border-left: 1px solid gray;box-sizing: border-box;top: 0;bottom: 0;left: 50%;z-index: 0;}#sk-container-id-8 div.sk-serial {display: flex;flex-direction: column;align-items: center;background-color: white;padding-right: 0.2em;padding-left: 0.2em;position: relative;}#sk-container-id-8 div.sk-item {position: relative;z-index: 1;}#sk-container-id-8 div.sk-parallel {display: flex;align-items: stretch;justify-content: center;background-color: white;position: relative;}#sk-container-id-8 div.sk-item::before, #sk-container-id-8 div.sk-parallel-item::before {content: \"\";position: absolute;border-left: 1px solid gray;box-sizing: border-box;top: 0;bottom: 0;left: 50%;z-index: -1;}#sk-container-id-8 div.sk-parallel-item {display: flex;flex-direction: column;z-index: 1;position: relative;background-color: white;}#sk-container-id-8 div.sk-parallel-item:first-child::after {align-self: flex-end;width: 50%;}#sk-container-id-8 div.sk-parallel-item:last-child::after {align-self: flex-start;width: 50%;}#sk-container-id-8 div.sk-parallel-item:only-child::after {width: 0;}#sk-container-id-8 div.sk-dashed-wrapped {border: 1px dashed gray;margin: 0 0.4em 0.5em 0.4em;box-sizing: border-box;padding-bottom: 0.4em;background-color: white;}#sk-container-id-8 div.sk-label label {font-family: monospace;font-weight: bold;display: inline-block;line-height: 1.2em;}#sk-container-id-8 div.sk-label-container {text-align: center;}#sk-container-id-8 div.sk-container {/* jupyter's `normalize.less` sets `[hidden] { display: none; }` but bootstrap.min.css set `[hidden] { display: none !important; }` so we also need the `!important` here to be able to override the default hidden behavior on the sphinx rendered scikit-learn.org. See: https://github.com/scikit-learn/scikit-learn/issues/21755 */display: inline-block !important;position: relative;}#sk-container-id-8 div.sk-text-repr-fallback {display: none;}</style><div id=\"sk-container-id-8\" class=\"sk-top-container\"><div class=\"sk-text-repr-fallback\"><pre>LogisticRegression(max_iter=1000, n_jobs=-1, verbose=1)</pre><b>In a Jupyter environment, please rerun this cell to show the HTML representation or trust the notebook. <br />On GitHub, the HTML representation is unable to render, please try loading this page with nbviewer.org.</b></div><div class=\"sk-container\" hidden><div class=\"sk-item\"><div class=\"sk-estimator sk-toggleable\"><input class=\"sk-toggleable__control sk-hidden--visually\" id=\"sk-estimator-id-8\" type=\"checkbox\" checked><label for=\"sk-estimator-id-8\" class=\"sk-toggleable__label sk-toggleable__label-arrow\">LogisticRegression</label><div class=\"sk-toggleable__content\"><pre>LogisticRegression(max_iter=1000, n_jobs=-1, verbose=1)</pre></div></div></div></div></div>"
      ],
      "text/plain": [
       "LogisticRegression(max_iter=1000, n_jobs=-1, verbose=1)"
      ]
     },
     "execution_count": 289,
     "metadata": {},
     "output_type": "execute_result"
    }
   ],
   "source": [
    "lr.fit(vec, corpus['class'])"
   ]
  },
  {
   "cell_type": "code",
   "execution_count": 290,
   "id": "80e78c1b",
   "metadata": {},
   "outputs": [
    {
     "data": {
      "text/plain": [
       "0.9335875391201123"
      ]
     },
     "execution_count": 290,
     "metadata": {},
     "output_type": "execute_result"
    }
   ],
   "source": [
    "lr.score(vec, corpus['class'])"
   ]
  },
  {
   "cell_type": "markdown",
   "id": "edb9ffae",
   "metadata": {},
   "source": [
    "Сохраним веса отдельно, и будем их тихонько двигать. Везде копии, чтобы ничего не переопределилось (ох уж эти ссылки...)\n",
    "\n",
    "Вообще, было удивительно узнать, что у обученной модели можно взять и переопределить веса... Просто так, даже не через метод"
   ]
  },
  {
   "cell_type": "code",
   "execution_count": 293,
   "id": "ac1a6ac1",
   "metadata": {},
   "outputs": [],
   "source": [
    "coefs = {}\n",
    "coefs['0'] = np.copy(lr.coef_[0])\n",
    "cf = np.copy(lr.coef_[0])\n",
    "std = np.std(cf)"
   ]
  },
  {
   "cell_type": "code",
   "execution_count": 301,
   "id": "634f3fa9",
   "metadata": {},
   "outputs": [
    {
     "data": {
      "text/plain": [
       "[<matplotlib.lines.Line2D at 0x3c2059510>]"
      ]
     },
     "execution_count": 301,
     "metadata": {},
     "output_type": "execute_result"
    },
    {
     "data": {
      "image/png": "[encoded data removed]",
      "text/plain": [
       "<Figure size 640x480 with 1 Axes>"
      ]
     },
     "metadata": {},
     "output_type": "display_data"
    }
   ],
   "source": [
    "plt.plot(cf)"
   ]
  },
  {
   "cell_type": "markdown",
   "id": "e491c9b1",
   "metadata": {},
   "source": [
    "Постепенно сдвигаем границу значащих признаков от нуля до максимального по модулю и смотрим точность. Получается интересно."
   ]
  },
  {
   "cell_type": "code",
   "execution_count": 313,
   "id": "5b53bff3",
   "metadata": {},
   "outputs": [],
   "source": [
    "def check_lines(cf, lr):\n",
    "    res = []\n",
    "    lines = np.arange(0, np.max(np.abs(cf)), 0.05)\n",
    "    for line in tqdm(lines):\n",
    "        tmp = np.copy(cf)\n",
    "        tmp[np.abs(tmp) <= line] = 0\n",
    "        lr.coef_[0] = tmp\n",
    "        n = tmp[tmp != 0].shape[0]\n",
    "        sc = lr.score(vec, corpus['class'])\n",
    "        res.append([line, n, sc])\n",
    "    return np.array(res)"
   ]
  },
  {
   "cell_type": "code",
   "execution_count": 314,
   "id": "fd202e35",
   "metadata": {},
   "outputs": [
    {
     "data": {
      "application/vnd.jupyter.widget-view+json": {
       "model_id": "5c615930ea254e57bb7c0aba6f7c76ad",
       "version_major": 2,
       "version_minor": 0
      },
      "text/plain": [
       "  0%|          | 0/676 [00:00<?, ?it/s]"
      ]
     },
     "metadata": {},
     "output_type": "display_data"
    }
   ],
   "source": [
    "res_lines = check_lines(cf, lr)"
   ]
  },
  {
   "cell_type": "markdown",
   "id": "fc923e51",
   "metadata": {},
   "source": [
    "Графки интересный чисто с познавательной точки зрения, однако в задаче это ничем не помогло, так как в списке слов скорее тематико-специфические слова, а не сущности (стоило бы догадаться, там же именно они и треггерят выбор класса)"
   ]
  },
  {
   "cell_type": "code",
   "execution_count": 325,
   "id": "827051b1",
   "metadata": {
    "scrolled": false
   },
   "outputs": [
    {
     "data": {
      "image/png": "[encoded data removed]",
      "text/plain": [
       "<Figure size 640x480 with 1 Axes>"
      ]
     },
     "metadata": {},
     "output_type": "display_data"
    }
   ],
   "source": [
    "plt.scatter(np.log(res_lines[:, 1]), res_lines[:, 2])\n",
    "plt.xlabel('Логарифм от числа признаков (слов)')\n",
    "plt.ylabel('Точность модели')\n",
    "plt.title('Зависимость точности модели от кол-ва признаков')\n",
    "plt.show()"
   ]
  },
  {
   "cell_type": "code",
   "execution_count": 337,
   "id": "6382cd70",
   "metadata": {},
   "outputs": [
    {
     "data": {
      "text/plain": [
       "array([  4.        , 232.        ,   0.89630254])"
      ]
     },
     "execution_count": 337,
     "metadata": {},
     "output_type": "execute_result"
    }
   ],
   "source": [
    "res_lines[80]"
   ]
  },
  {
   "cell_type": "code",
   "execution_count": 336,
   "id": "a759b63a",
   "metadata": {},
   "outputs": [
    {
     "data": {
      "text/plain": [
       "array(['2ds', '360', '3d', '45', 'action', 'airbrush', 'album', 'amiibo',\n",
       "       'amiibos', 'analog', 'arcade', 'artist', 'assortment', 'audio',\n",
       "       'battery', 'battle', 'bead', 'beading', 'beginner', 'blade',\n",
       "       'blanket', 'bobbin', 'boring', 'boyfriend', 'bracelet', 'brush',\n",
       "       'cable', 'camera', 'candle', 'canvas', 'chain', 'chalk',\n",
       "       'character', 'charge', 'charger', 'charging', 'classic', 'clay',\n",
       "       'cod', 'code', 'collector', 'color', 'coloring', 'console',\n",
       "       'container', 'control', 'controller', 'copy', 'craft', 'crafter',\n",
       "       'crafting', 'cricut', 'crochet', 'crocheting', 'cut', 'cutter',\n",
       "       'cutting', 'dance', 'die', 'disc', 'dlc', 'download', 'driver',\n",
       "       'drum', 'dry', 'dsi', 'dy', 'dye', 'earring', 'edition',\n",
       "       'embossing', 'embroidery', 'entertaining', 'eraser', 'exercise',\n",
       "       'expansion', 'fabric', 'fan', 'flower', 'folder', 'fps',\n",
       "       'franchise', 'game', 'gameboy', 'gamecube', 'gamepad', 'gameplay',\n",
       "       'gamer', 'gamers', 'gamestop', 'gaming', 'glitch', 'glitter',\n",
       "       'glue', 'graphic', 'guitar', 'halo', 'hd', 'headphone', 'headset',\n",
       "       'hook', 'hoop', 'hori', 'infinity', 'ink', 'iron', 'jewelry',\n",
       "       'joystick', 'juego', 'keyboard', 'kinect', 'knit', 'knitting',\n",
       "       'leather', 'level', 'logger', 'logitech', 'loom', 'machine',\n",
       "       'madden', 'making', 'mario', 'marker', 'memory', 'mic',\n",
       "       'microphone', 'microsoft', 'mission', 'mode', 'mold', 'mouse',\n",
       "       'multiplayer', 'n64', 'ne', 'necklace', 'needle', 'nintendo',\n",
       "       'official', 'oil', 'original', 'paint', 'painting', 'paper',\n",
       "       'pastel', 'patch', 'pattern', 'pen', 'pencil', 'pin', 'play',\n",
       "       'played', 'player', 'playing', 'playstation', 'podge', 'pokemon',\n",
       "       'port', 'project', 'ps2', 'ps3', 'ps4', 'psp', 'punch', 'puzzle',\n",
       "       'quilt', 'quilting', 'racing', 'razer', 'remote', 'resin',\n",
       "       'ribbon', 'ring', 'rpg', 'ruler', 'scarf', 'scissors', 'scrapbook',\n",
       "       'scrapbooking', 'screen', 'seam', 'sensor', 'sequel', 'serger',\n",
       "       'series', 'setup', 'sew', 'sewing', 'sharp', 'sheet', 'shooter',\n",
       "       'silhouette', 'sim', 'sims', 'singer', 'size', 'sizzix', 'sketch',\n",
       "       'skylander', 'skylanders', 'soap', 'son', 'song', 'sony', 'sound',\n",
       "       'spool', 'stabilizer', 'stamp', 'stamping', 'statue', 'stencil',\n",
       "       'stitch', 'story', 'stylus', 'tape', 'thread', 'title', 'tool',\n",
       "       'trigger', 'version', 'vinyl', 'vita', 'war', 'watercolor', 'wax',\n",
       "       'wedding', 'wii', 'wireless', 'workout', 'xbox', 'yarn', 'yoshi',\n",
       "       'zelda'], dtype=object)"
      ]
     },
     "execution_count": 336,
     "metadata": {},
     "output_type": "execute_result"
    }
   ],
   "source": [
    "words[np.where(np.abs(cf) >= 4)]"
   ]
  },
  {
   "cell_type": "markdown",
   "id": "28fc7fdb",
   "metadata": {},
   "source": [
    "### Способ 3.1"
   ]
  },
  {
   "cell_type": "code",
   "execution_count": 340,
   "id": "f61df421",
   "metadata": {},
   "outputs": [],
   "source": [
    "fcf = cf * freq"
   ]
  },
  {
   "cell_type": "code",
   "execution_count": 345,
   "id": "3f19377a",
   "metadata": {},
   "outputs": [
    {
     "data": {
      "text/plain": [
       "[<matplotlib.lines.Line2D at 0x456f123e0>]"
      ]
     },
     "execution_count": 345,
     "metadata": {},
     "output_type": "execute_result"
    },
    {
     "data": {
      "image/png": "[encoded data removed]",
      "text/plain": [
       "<Figure size 640x480 with 1 Axes>"
      ]
     },
     "metadata": {},
     "output_type": "display_data"
    }
   ],
   "source": [
    "plt.plot(fcf)"
   ]
  },
  {
   "cell_type": "code",
   "execution_count": 350,
   "id": "db1354d8",
   "metadata": {},
   "outputs": [
    {
     "data": {
      "text/plain": [
       "array(['coloring', 'earring', 'vinyl', 'bottle', 'easily', 'medium',\n",
       "       'book', 'store', 'thick', 'ordered', 'easier', 'foot', 'ring',\n",
       "       'tiny', 'stencil', 'piece', 'acrylic', 'smooth', 'embossing',\n",
       "       'mold', 'large', 'crafting', 'design', 'pretty', 'order', 'mat',\n",
       "       'sheet', 'sew', 'larger', 'bracelet', 'hold', 'variety', 'clay',\n",
       "       'canvas', 'kit', 'love', 'needed', 'handle', 'cricut', 'artist',\n",
       "       'ruler', 'soft', 'water', 'smaller', 'cutter', 'nice', 'price',\n",
       "       'die', 'card', 'dy', 'quilting', 'product', 'art', 'pin',\n",
       "       'knitting', 'pattern', 'punch', 'crochet', 'dry', 'embroidery',\n",
       "       'tape', 'sharp', 'painting', 'stitch', 'quilt', 'watercolor',\n",
       "       'jewelry', 'hook', 'bobbin', 'pen', 'blade', 'scissors', 'glue',\n",
       "       'beautiful', 'cutting', 'marker', 'ink', 'small', 'set', 'easy',\n",
       "       'tool', 'quality', 'making', 'stamp', 'craft', 'pencil', 'fabric',\n",
       "       'paint', 'cut', 'sewing', 'bead', 'thread', 'size', 'brush',\n",
       "       'machine', 'needle', 'yarn', 'paper', 'project', 'color'],\n",
       "      dtype=object)"
      ]
     },
     "execution_count": 350,
     "metadata": {},
     "output_type": "execute_result"
    }
   ],
   "source": [
    "vocab[fcf.argsort()[-100:]]"
   ]
  },
  {
   "cell_type": "markdown",
   "id": "a2283594",
   "metadata": {},
   "source": [
    "Тут тоже ничего особо полезного не вышло. А идея была вот в чем: если слово частотное и при этом имеет большой вклад в текущий класс, то мы хотим его найти. Но нашлось опять что-то странное"
   ]
  },
  {
   "cell_type": "markdown",
   "id": "78dc1842",
   "metadata": {},
   "source": [
    "## Задание 2"
   ]
  },
  {
   "cell_type": "markdown",
   "id": "fac0184f",
   "metadata": {},
   "source": [
    "### Способ 1 еще раз, чтобы было удобнее работать"
   ]
  },
  {
   "cell_type": "code",
   "execution_count": 362,
   "id": "affd64d2",
   "metadata": {
    "scrolled": true
   },
   "outputs": [
    {
     "data": {
      "application/vnd.jupyter.widget-view+json": {
       "model_id": "b6e4216ee92d401b8ac59fe123b9b332",
       "version_major": 2,
       "version_minor": 0
      },
      "text/plain": [
       "  0%|          | 0/12804 [00:00<?, ?it/s]"
      ]
     },
     "metadata": {},
     "output_type": "display_data"
    },
    {
     "data": {
      "application/vnd.jupyter.widget-view+json": {
       "model_id": "786c6287b1514f2aaa08b7a46aab093a",
       "version_major": 2,
       "version_minor": 0
      },
      "text/plain": [
       "  0%|          | 0/12804 [00:00<?, ?it/s]"
      ]
     },
     "metadata": {},
     "output_type": "display_data"
    }
   ],
   "source": [
    "sf_ngrs = get_ngrams(sf_data, n=1)\n",
    "res = [' '.join(el[0]) for el in sf_ngrs.most_common(100)]\n",
    "sf_ngrs = get_ngrams(sf_data, n=2)\n",
    "res.extend([' '.join(el[0]) for el in sf_ngrs.most_common(100)])"
   ]
  },
  {
   "cell_type": "code",
   "execution_count": 363,
   "id": "2d01bf59",
   "metadata": {},
   "outputs": [
    {
     "name": "stdout",
     "output_type": "stream",
     "text": [
      "['software', 'program', 'window', 'version', 'product', 'year', 'time', 'work', 'computer', 'feature', 'file', '-', 'user', '--', 'good', 'video', 'easy', 'problem', 'office', 'great', 'thing', 'norton', 'tax', 'microsoft', 'install', 'update', 'lot', '7', 'mac', 'upgrade', 'photo', 'security', 'pro', 'free', 'price', 'support', 'installed', 'review', 'tool', 'option', 'issue', 'quicken', 'installation', 'vista', 'editing', 'drive', 'interface', 'xp', 'corel', 'internet', 'word', 'running', 'data', 'bit', '2', 'game', 'people', '8', 'start', 'day', 'download', 'business', 'buy', 'screen', 'device', '3', 'pretty', 'online', 'set', 'application', 'hard', 'recommend', 'suite', 'simple', 'document', 'machine', 'laptop', 'turbotax', 'basic', '10', 'long', 'package', 'account', 'nice', 'form', '1', 'virus', 'money', '5', 'open', 'protection', 'return', 'learning', 'image', 'process', 'number', 'create', 'backup', 'experience', 'worked', '-- --', 'window 7', 'window 8', 'hard drive', 'internet security', 'window xp', 'turbo tax', 'product-link-linked a-link-normal', 'previous version', 'microsoft office', 'video editing', 'nbsp product-link-linked', 'learning curve', 'trend micro', 'year ago', 'user interface', 'easy install', 'norton 360', 'long time', 'window 10', 'rosetta stone', 'highly recommend', 'photo editing', 'paintshop pro', 'small business', 'work great', 'running window', 'older version', 'editing software', 'web site', 'window vista', 'office 2007', 'great product', 'security software', 'program work', 'user friendly', 'version window', 'tech support', 'tax software', 'nancy drew', '64 bit', 'credit card', 'family tree', 'street trip', 'customer service', 'software package', 'work fine', 'good product', 'tax return', 'version office', 'norton security', 'earlier version', 'win 7', 'pretty good', '5 star', 'pinnacle studio', 'highly recommended', 'latest version', 'office suite', 'year year', 'software work', 'photoshop element', 'piece software', 'security suite', 'norton internet', 'good job', 'version software', 'norton product', 'snow leopard', 'start menu', 'mac version', 'window version', 'dragon dictate', 'error message', 'adobe photoshop', 'tax year', 'virus protection', 'software year', 'product year', 'customer support', 'word excel', 'clean install', 'editing program', 'office 2010', '4 star', 'service pack', 'turbotax year', 'file format', 'video file', 'product work', 'office 2008', 'recommend product', '-- -', '10 year', 'corel videostudio', 'software program', 'product key', 'pdf file', 'nice feature', 'norton antivirus']\n"
     ]
    }
   ],
   "source": [
    "print(res)"
   ]
  },
  {
   "cell_type": "code",
   "execution_count": 378,
   "id": "6c842173",
   "metadata": {
    "scrolled": true
   },
   "outputs": [],
   "source": [
    "# with open('entiies.txt', 'w', encoding='utf-8') as f:\n",
    "#     f.write('\\n'.join(res))"
   ]
  },
  {
   "cell_type": "markdown",
   "id": "4dd4f2f8",
   "metadata": {},
   "source": [
    "## Задание 3"
   ]
  },
  {
   "cell_type": "code",
   "execution_count": 384,
   "id": "7ae24ba7",
   "metadata": {},
   "outputs": [],
   "source": [
    "with open('entiies.txt', 'r', encoding='utf-8') as f:\n",
    "    ents = f.read()"
   ]
  },
  {
   "cell_type": "code",
   "execution_count": 386,
   "id": "aab15395",
   "metadata": {},
   "outputs": [],
   "source": [
    "ents = ents.splitlines()"
   ]
  },
  {
   "cell_type": "markdown",
   "id": "6c12e270",
   "metadata": {},
   "source": [
    "Давайте возьмем только двусловные, они как будто более содержательные"
   ]
  },
  {
   "cell_type": "code",
   "execution_count": 389,
   "id": "41b03760",
   "metadata": {
    "scrolled": true
   },
   "outputs": [
    {
     "data": {
      "text/plain": [
       "['hard drive',\n",
       " 'internet security',\n",
       " 'microsoft office',\n",
       " 'video editing',\n",
       " 'learning curve',\n",
       " 'user interface',\n",
       " 'norton 360',\n",
       " 'window 10',\n",
       " 'rosetta stone',\n",
       " 'photo editing',\n",
       " 'paintshop pro',\n",
       " 'running window',\n",
       " 'editing software',\n",
       " 'web site',\n",
       " 'window vista',\n",
       " 'office 2007',\n",
       " 'security software',\n",
       " 'tech support',\n",
       " 'customer service',\n",
       " 'security suite',\n",
       " 'norton internet',\n",
       " 'norton product',\n",
       " 'start menu',\n",
       " 'mac version',\n",
       " 'window version',\n",
       " 'adobe photoshop',\n",
       " 'virus protection',\n",
       " 'customer support',\n",
       " 'corel videostudio',\n",
       " 'software program',\n",
       " 'norton antivirus']"
      ]
     },
     "execution_count": 389,
     "metadata": {},
     "output_type": "execute_result"
    }
   ],
   "source": [
    "ents = [el for el in ents if ' ' in el]\n",
    "ents"
   ]
  },
  {
   "cell_type": "code",
   "execution_count": 450,
   "id": "2f391d25",
   "metadata": {},
   "outputs": [],
   "source": [
    "def get_ngrams(data):\n",
    "    sf_data_new = []\n",
    "    for sent in tqdm(data):\n",
    "        cur = ngrams(preprocess(sent).split(), 3)\n",
    "        for ent in ents:\n",
    "            for ngr in cur:\n",
    "                ngr = ' '.join(ngr)\n",
    "                if ent in ngr:\n",
    "                    sf_data_new.append(ngr.replace(ent, ent.replace(' ', '_')))\n",
    "    return sf_data_new"
   ]
  },
  {
   "cell_type": "code",
   "execution_count": 453,
   "id": "90c2ff63",
   "metadata": {},
   "outputs": [
    {
     "data": {
      "application/vnd.jupyter.widget-view+json": {
       "model_id": "daed20d035e245369c78a449597203e4",
       "version_major": 2,
       "version_minor": 0
      },
      "text/plain": [
       "  0%|          | 0/12804 [00:00<?, ?it/s]"
      ]
     },
     "metadata": {},
     "output_type": "display_data"
    }
   ],
   "source": [
    "bigrs = get_ngrams(sf_data)"
   ]
  },
  {
   "cell_type": "code",
   "execution_count": 454,
   "id": "a25feda1",
   "metadata": {},
   "outputs": [
    {
     "data": {
      "text/plain": [
       "1530"
      ]
     },
     "execution_count": 454,
     "metadata": {},
     "output_type": "execute_result"
    }
   ],
   "source": [
    "len(bigrs)"
   ]
  },
  {
   "cell_type": "code",
   "execution_count": 455,
   "id": "202c629a",
   "metadata": {},
   "outputs": [
    {
     "data": {
      "text/plain": [
       "['folder hard_drive',\n",
       " 'hard_drive open',\n",
       " 'dvd hard_drive',\n",
       " 'hard_drive play',\n",
       " 'local hard_drive',\n",
       " 'hard_drive synchronizing',\n",
       " 'local hard_drive',\n",
       " 'hard_drive 3',\n",
       " 'awhile hard_drive',\n",
       " 'hard_drive dvd']"
      ]
     },
     "execution_count": 455,
     "metadata": {},
     "output_type": "execute_result"
    }
   ],
   "source": [
    "bigrs[:10]"
   ]
  },
  {
   "cell_type": "markdown",
   "id": "bc05d8a2",
   "metadata": {},
   "source": [
    "## Задание 4"
   ]
  },
  {
   "cell_type": "markdown",
   "id": "90da6090",
   "metadata": {},
   "source": [
    "### Способ 1\n",
    "Среднее +- квадратичное отклонение от средней позиции"
   ]
  },
  {
   "cell_type": "code",
   "execution_count": 456,
   "id": "9011584b",
   "metadata": {},
   "outputs": [],
   "source": [
    "def prep_bigrs(bis):\n",
    "    new_bis = {}\n",
    "    for bi in bis:\n",
    "        pos = bi.index('_')\n",
    "        bi = bi.split()\n",
    "        if pos >= len(bi[0]):\n",
    "            bi.reverse()\n",
    "        if bi[0] not in new_bis:\n",
    "            new_bis[bi[0]] = {}\n",
    "        if bi[1] not in new_bis[bi[0]]:\n",
    "            new_bis[bi[0]][bi[1]] = 0\n",
    "        new_bis[bi[0]][bi[1]] += 1\n",
    "    return new_bis"
   ]
  },
  {
   "cell_type": "code",
   "execution_count": 457,
   "id": "a209d10c",
   "metadata": {},
   "outputs": [],
   "source": [
    "bis = prep_bigrs(bigrs)"
   ]
  },
  {
   "cell_type": "code",
   "execution_count": 459,
   "id": "360fe3a6",
   "metadata": {},
   "outputs": [],
   "source": [
    "def get_positions(data, bis):\n",
    "    res = {}\n",
    "    for sent in tqdm(data):\n",
    "        new_sent = sent.split()\n",
    "        for ent_ref in bis:\n",
    "            if ent_ref not in res:\n",
    "                res[ent_ref] = {}\n",
    "            if ent_ref in new_sent:\n",
    "                eidx = new_sent.index(ent_ref)\n",
    "                for ent_cur in bis[ent_ref]:\n",
    "                    if ent_cur != ent_ref:\n",
    "                        if ent_cur not in res[ent_ref]:\n",
    "                            res[ent_ref][ent_cur] = []\n",
    "                        if ent_cur in new_sent:\n",
    "                            cidx = new_sent.index(ent_cur)\n",
    "                            pos = eidx - cidx\n",
    "                            if abs(pos) <= 2:\n",
    "                                res[ent_ref][ent_cur].append(pos)\n",
    "    return res"
   ]
  },
  {
   "cell_type": "code",
   "execution_count": 460,
   "id": "0fc37e33",
   "metadata": {},
   "outputs": [
    {
     "data": {
      "application/vnd.jupyter.widget-view+json": {
       "model_id": "dc80c2a1ee164ae585a2676d514edd41",
       "version_major": 2,
       "version_minor": 0
      },
      "text/plain": [
       "  0%|          | 0/1530 [00:00<?, ?it/s]"
      ]
     },
     "metadata": {},
     "output_type": "display_data"
    }
   ],
   "source": [
    "freq_pos = get_positions(sf_data_new, bis)"
   ]
  },
  {
   "cell_type": "code",
   "execution_count": 461,
   "id": "118c5b8b",
   "metadata": {},
   "outputs": [
    {
     "data": {
      "text/plain": [
       "{'hard_drive': {'folder': [1],\n",
       "  'open': [-1, -1, -1],\n",
       "  'dvd': [1, -1, 1, -1, 1, -1, -1, -1, -1, 1, -1],\n",
       "  'play': [-1, -1, -1],\n",
       "  'local': [1, 1, 1, 1, 1, 1, 1, 1],\n",
       "  'synchronizing': [-1, -1],\n",
       "  '3': [-1, 1, -1],\n",
       "  'awhile': [1],\n",
       "  'crashed': [1, -1, -1],\n",
       "  'employee': [-1],\n",
       "  'size': [1, 1, 1, -1, -1, 1, 1, 1, 1, 1, -1, -1],\n",
       "  'space': [-1,\n",
       "   -1,\n",
       "   -1,\n",
       "   -1,\n",
       "   -1,\n",
       "   -1,\n",
       "   -1,\n",
       "   -1,\n",
       "   -1,\n",
       "   -1,\n",
       "   -1,\n",
       "   1,\n",
       "   1,\n",
       "   -1,\n",
       "   -1,\n",
       "   -1,\n",
       "   -1,\n",
       "   -1,\n",
       "   1,\n",
       "   1,\n",
       "   -1,\n",
       "   -1,\n",
       "   -1,\n",
       "   -1,\n",
       "   1,\n",
       "   1,\n",
       "   1,\n",
       "   -1,\n",
       "   1,\n",
       "   -1,\n",
       "   1,\n",
       "   -1,\n",
       "   1,\n",
       "   -1,\n",
       "   1,\n",
       "   -1,\n",
       "   -1,\n",
       "   -1,\n",
       "   1,\n",
       "   1,\n",
       "   -1,\n",
       "   -1,\n",
       "   -1,\n",
       "   -1,\n",
       "   1,\n",
       "   -1,\n",
       "   1,\n",
       "   1,\n",
       "   1,\n",
       "   1,\n",
       "   1,\n",
       "   1,\n",
       "   -1,\n",
       "   1,\n",
       "   -1,\n",
       "   1,\n",
       "   1,\n",
       "   1,\n",
       "   1,\n",
       "   -1,\n",
       "   -1,\n",
       "   -1,\n",
       "   -1,\n",
       "   1],\n",
       "  '1tb': [1, 1, 1, 1, 1, 1, 1, 1],\n",
       "  'machine': [-1, -1, -1, -1, -1, -1, 1],\n",
       "  'replacing': [1, 1, 1, 1, 1, 1, 1],\n",
       "  'newer': [-1, -1, -1, -1, -1],\n",
       "  'ssd': [1, 1, 1, 1, 1, -1, -1],\n",
       "  'extremely': [-1, -1, -1, -1, -1],\n",
       "  'scan': [1, 1, -1, -1, 1, -1, -1, 1, 1, 1, 1, 1, 1, 1, 1, 1, 1],\n",
       "  'bad': [-1, -1, -1, 1, 1],\n",
       "  'major': [1, 1, 1],\n",
       "  'brand': [-1, -1, -1, 1, 1, 1, 1],\n",
       "  'array': [1, -1, 1, -1, 1, -1, 1, -1, 1, -1],\n",
       "  'hardware': [-1, -1, -1, -1, -1],\n",
       "  'cheap': [1, 1, 1, 1, 1, -1],\n",
       "  'carriage': [-1, -1, -1, -1, -1],\n",
       "  'removing': [1, 1, 1, 1, 1],\n",
       "  'external': [1,\n",
       "   1,\n",
       "   1,\n",
       "   1,\n",
       "   1,\n",
       "   1,\n",
       "   1,\n",
       "   1,\n",
       "   1,\n",
       "   1,\n",
       "   1,\n",
       "   1,\n",
       "   1,\n",
       "   1,\n",
       "   1,\n",
       "   1,\n",
       "   1,\n",
       "   1,\n",
       "   1,\n",
       "   1,\n",
       "   1,\n",
       "   1,\n",
       "   1,\n",
       "   1,\n",
       "   1,\n",
       "   -1,\n",
       "   1,\n",
       "   1,\n",
       "   1,\n",
       "   1,\n",
       "   1,\n",
       "   -1,\n",
       "   1,\n",
       "   1,\n",
       "   -1,\n",
       "   -1,\n",
       "   -1,\n",
       "   1,\n",
       "   1,\n",
       "   1,\n",
       "   1,\n",
       "   1,\n",
       "   -1,\n",
       "   1,\n",
       "   1,\n",
       "   1,\n",
       "   -1,\n",
       "   1,\n",
       "   1,\n",
       "   1,\n",
       "   1,\n",
       "   1,\n",
       "   1,\n",
       "   1,\n",
       "   1,\n",
       "   1,\n",
       "   1,\n",
       "   1,\n",
       "   1,\n",
       "   1,\n",
       "   1,\n",
       "   1,\n",
       "   1],\n",
       "  'add': [-1, -1, -1, -1, -1],\n",
       "  'wd': [1, 1, 1, 1, 1, -1],\n",
       "  'operate': [-1, -1, -1, -1, -1],\n",
       "  'thought': [1, 1, 1, 1, 1, -1],\n",
       "  'exchanging': [-1, -1, -1, -1, -1],\n",
       "  'download': [1, -1],\n",
       "  'patchging': [-1],\n",
       "  'reformatting': [1],\n",
       "  'rid': [-1],\n",
       "  'reformat': [1, 1, 1, 1, 1, 1, 1, 1, 1, 1],\n",
       "  'microsoft': [-1, -1],\n",
       "  'format': [1, 1],\n",
       "  'friend': [-1, -1, 1, 1],\n",
       "  'image': [1, -1, 1, -1, 1, 1, 1, 1, -1, 1, 1],\n",
       "  'thing': [-1, -1, -1],\n",
       "  'easy': [1, -1, 1],\n",
       "  'matter': [-1],\n",
       "  'partition': [1, 1, 1, 1, 1, 1, 1, 1, 1, 1, 1],\n",
       "  'program': [-1, 1, 1, -1, 1, -1, -1, -1, -1, -1, -1, -1, -1, -1, -1],\n",
       "  'worried': [-1],\n",
       "  'support': [1, 1],\n",
       "  '80': [-1, -1, -1],\n",
       "  'repartitioning': [-1, -1],\n",
       "  'wixxp': [-1, -1],\n",
       "  'version': [1, 1, 1],\n",
       "  'linux': [-1, -1],\n",
       "  'large': [1, 1, -1],\n",
       "  'drive': [-1, -1, -1, 1, 1, 1, 1, 1, 1],\n",
       "  'good': [1, 1, -1, -1, 1, -1, -1, 1, -1],\n",
       "  'window': [-1, -1, -1, 1, 1, 1, -1, -1, -1, -1, -1],\n",
       "  'data': [1, -1, 1, 1],\n",
       "  'partitioning': [1, 1, 1],\n",
       "  'graphical': [-1],\n",
       "  'formatted': [1, 1, 1, 1],\n",
       "  'reinstalled': [-1],\n",
       "  'ripping': [-1, -1, -1, -1, -1],\n",
       "  'ect': [1],\n",
       "  'defrag': [-1, 1, 1, 1, 1, 1],\n",
       "  'c-dilla': [1],\n",
       "  'roughly': [-1],\n",
       "  'sizing': [1],\n",
       "  'store': [-1, -1],\n",
       "  'wiping': [1],\n",
       "  'completely': [-1, -1, -1, -1],\n",
       "  'pristine': [1],\n",
       "  'feel': [-1, -1],\n",
       "  'faster': [1, 1, 1, -1],\n",
       "  'searching': [-1, -1],\n",
       "  'ni': [1],\n",
       "  're-image': [-1],\n",
       "  'month': [1, -1],\n",
       "  'registry': [-1],\n",
       "  'file': [1,\n",
       "   1,\n",
       "   1,\n",
       "   1,\n",
       "   1,\n",
       "   1,\n",
       "   1,\n",
       "   1,\n",
       "   1,\n",
       "   1,\n",
       "   -1,\n",
       "   1,\n",
       "   -1,\n",
       "   1,\n",
       "   -1,\n",
       "   1,\n",
       "   1,\n",
       "   1,\n",
       "   1,\n",
       "   -1,\n",
       "   1,\n",
       "   1,\n",
       "   1,\n",
       "   1,\n",
       "   1,\n",
       "   1,\n",
       "   1,\n",
       "   1,\n",
       "   1,\n",
       "   1,\n",
       "   1,\n",
       "   1,\n",
       "   1],\n",
       "  'drag': [-1, -1, -1],\n",
       "  'stripping': [-1],\n",
       "  'installing': [-1, -1, -1, -1, 1, 1],\n",
       "  'service': [1],\n",
       "  'died': [-1, -1, -1, -1],\n",
       "  'rootkit': [1],\n",
       "  'reinstall': [-1, -1, -1, -1],\n",
       "  'existing': [1, -1, -1, -1],\n",
       "  'upgrade': [-1, -1, -1, -1, -1],\n",
       "  'laptop': [1, -1, 1, 1, 1, 1, -1, 1, -1],\n",
       "  'cloned': [-1, 1, 1],\n",
       "  'sata': [1, 1, 1, 1],\n",
       "  'wow': [-1],\n",
       "  'hd': [1, 1],\n",
       "  'light': [-1],\n",
       "  'internal': [1, 1, 1, 1, 1, 1, 1, 1],\n",
       "  'imac': [-1, 1, -1],\n",
       "  'night': [-1, 1],\n",
       "  '5': [-1],\n",
       "  'computer': [1,\n",
       "   -1,\n",
       "   -1,\n",
       "   -1,\n",
       "   1,\n",
       "   -1,\n",
       "   1,\n",
       "   1,\n",
       "   -1,\n",
       "   -1,\n",
       "   -1,\n",
       "   1,\n",
       "   -1,\n",
       "   -1,\n",
       "   1,\n",
       "   1,\n",
       "   -1,\n",
       "   -1],\n",
       "  'ready': [1, 1, 1, 1],\n",
       "  '24': [-1],\n",
       "  'macbook': [-1],\n",
       "  'mac': [-1, -1],\n",
       "  'benefit': [1],\n",
       "  'life': [1],\n",
       "  '6': [-1, -1],\n",
       "  'including': [-1, -1],\n",
       "  'backup': [1, 1, 1, -1, -1, 1, 1, -1, 1, 1, 1, 1, -1, -1, 1, -1, 1],\n",
       "  'time': [-1, -1, -1, -1, -1, -1, -1, -1],\n",
       "  'osx': [-1],\n",
       "  'based': [1],\n",
       "  'clone': [1, 1, 1, 1, 1, 1, 1],\n",
       "  'backed': [-1, 1, 1, -1, -1, -1, -1, 1],\n",
       "  'bootable': [-1],\n",
       "  '2': [1, 1, -1, 1, -1],\n",
       "  'room': [-1, -1, -1],\n",
       "  'free': [1, 1, -1, 1],\n",
       "  'slow': [-1, 1],\n",
       "  'bigger': [1],\n",
       "  'access': [1, -1],\n",
       "  'save': [-1],\n",
       "  'smaller': [1],\n",
       "  'protect': [1],\n",
       "  'mouse': [-1, 1, 1],\n",
       "  'saved': [1, -1, -1, 1, 1, 1],\n",
       "  'map': [-1],\n",
       "  'long': [-1, -1, -1],\n",
       "  '-': [-1, -1, -1, -1, -1],\n",
       "  'buy': [1, 1],\n",
       "  'separate': [-1, 1, 1, 1, 1, 1],\n",
       "  'core': [1],\n",
       "  'wait': [-1, -1, 1, -1, 1],\n",
       "  'death': [1, 1],\n",
       "  'nic': [-1],\n",
       "  'memory': [1, 1, 1, -1, 1, 1, 1],\n",
       "  'processor': [1],\n",
       "  'business': [-1],\n",
       "  'drain': [-1],\n",
       "  'start': [-1],\n",
       "  'gb': [1, 1, 1, 1, 1, 1, 1, 1, 1, 1, 1],\n",
       "  'ati': [-1, -1, -1],\n",
       "  'defragging': [1, 1, 1],\n",
       "  'xp': [-1, -1, 1, -1],\n",
       "  'trashed': [1],\n",
       "  'slower': [-1],\n",
       "  'delete': [1],\n",
       "  'rebuild': [-1],\n",
       "  'gigabyte': [1, 1, 1],\n",
       "  'subtract': [1],\n",
       "  'hard': [-1],\n",
       "  'case': [-1],\n",
       "  'insecure': [1],\n",
       "  'unable': [-1],\n",
       "  'wipe': [1, 1, 1, 1, 1, 1, 1, 1, 1, 1],\n",
       "  'install': [-1, -1, -1, -1, -1, 1],\n",
       "  'seagate': [1, -1, -1, 1],\n",
       "  'ghost': [-1],\n",
       "  'recall': [-1],\n",
       "  'bought': [-1, -1, -1],\n",
       "  'video': [-1, 1, 1, 1, -1, -1, 1, 1],\n",
       "  'rom': [1, 1],\n",
       "  'safe': [-1],\n",
       "  'gig': [1, 1, 1, 1, 1],\n",
       "  'plenty': [1],\n",
       "  'usb': [1, 1, -1, 1, 1, -1, 1, 1, 1, -1, -1, -1],\n",
       "  'maxtor': [-1],\n",
       "  'work': [-1, -1, -1],\n",
       "  'addition': [1],\n",
       "  'unusable': [-1],\n",
       "  'esata': [-1, -1, -1, 1],\n",
       "  'set': [-1, -1, -1, -1],\n",
       "  'optimizes': [1],\n",
       "  'repair': [-1],\n",
       "  'junk': [1, 1, 1, -1, 1],\n",
       "  'self-cleaning': [-1],\n",
       "  'inexpensive': [1],\n",
       "  'user': [-1, 1, -1],\n",
       "  'entire': [1, 1, 1, 1, 1, 1, 1, 1, 1, 1, 1],\n",
       "  'included': [-1, -1],\n",
       "  'switch': [1, 1],\n",
       "  'continue': [-1, -1],\n",
       "  'older': [1, 1],\n",
       "  'decided': [-1, -1],\n",
       "  'secondary': [1, 1, 1, -1],\n",
       "  'pata': [-1, 1, -1, 1],\n",
       "  'indicating': [1, 1],\n",
       "  'disk': [-1, -1],\n",
       "  'loaded': [-1, -1],\n",
       "  'repartition': [-1, -1, 1],\n",
       "  'complex': [1, 1, -1],\n",
       "  'software': [-1, -1, -1, -1, -1, -1, -1, -1, -1, 1],\n",
       "  'minute': [1, -1, 1, -1, 1],\n",
       "  'failure': [-1, 1, -1, 1, -1, -1, -1, -1],\n",
       "  'read': [1, 1],\n",
       "  'updated': [1, 1],\n",
       "  'unsupported': [1, 1],\n",
       "  'restore': [1, 1, 1, -1],\n",
       "  'live': [-1, -1],\n",
       "  'fit': [-1, -1],\n",
       "  '1': [1, 1, -1],\n",
       "  'nbsp': [-1, -1, -1, -1],\n",
       "  'selected': [-1, -1],\n",
       "  'break': [-1, -1, 1],\n",
       "  'nicely': [-1, -1],\n",
       "  'partitioned': [-1, -1],\n",
       "  'wear': [-1, -1, 1],\n",
       "  'identical': [1, 1],\n",
       "  'clean': [-1, -1, -1, 1, 1, -1, -1, -1, 1, 1, -1, 1, -1, 1],\n",
       "  'bit': [1, 1],\n",
       "  'keeping': [1, 1, 1],\n",
       "  'year': [1, 1, 1, 1, 1],\n",
       "  'running': [-1, -1, 1],\n",
       "  'ground': [1, 1],\n",
       "  'installed': [-1, -1, -1, -1, 1, 1, 1, 1, -1],\n",
       "  'contrast': [-1, -1],\n",
       "  'rpm': [1, 1, 1, 1],\n",
       "  'speed': [-1, -1, -1],\n",
       "  'footage': [1, 1],\n",
       "  'import': [-1, -1],\n",
       "  'remove': [1, 1, 1, 1, -1, -1],\n",
       "  'jetsam': [1, 1],\n",
       "  'detects': [-1, -1],\n",
       "  'minimize': [1, 1],\n",
       "  'fragmentation': [-1, -1],\n",
       "  'way': [-1, -1],\n",
       "  'simply': [1, 1],\n",
       "  'initialized': [-1, -1],\n",
       "  'card': [1, 1],\n",
       "  'pdf': [-1, -1],\n",
       "  'perk': [-1, -1],\n",
       "  'larger': [1, 1, -1, 1, 1, 1],\n",
       "  'mobo': [1, 1],\n",
       "  'serial': [-1, -1],\n",
       "  'buying': [1, 1],\n",
       "  'norton': [-1, -1],\n",
       "  'portion': [1, 1],\n",
       "  'thinking': [1, 1],\n",
       "  'track': [-1, -1],\n",
       "  'defragment': [1, 1],\n",
       "  'tune-up': [-1, -1],\n",
       "  '200gb': [1, 1],\n",
       "  '100gb': [-1, -1],\n",
       "  'accessing': [1, 1],\n",
       "  'quicktime': [1, 1],\n",
       "  'uncommon': [-1, -1],\n",
       "  'defragmented': [1, 1, -1, -1],\n",
       "  'smooth': [-1, -1],\n",
       "  'burning': [-1, -1],\n",
       "  'straight': [1, 1],\n",
       "  'camera': [-1, -1, 1, 1],\n",
       "  'album': [1, 1, 1, 1],\n",
       "  'road': [-1, -1, -1, -1, -1],\n",
       "  'boot': [1, 1, 1, 1, -1, -1, -1],\n",
       "  'waste': [1, 1],\n",
       "  'working': [-1, -1, -1, -1, -1, -1],\n",
       "  '12': [-1],\n",
       "  'magic': [1],\n",
       "  'kaput': [-1],\n",
       "  'day': [1, 1, -1],\n",
       "  'arrive': [-1],\n",
       "  'warranty': [1],\n",
       "  'current': [1],\n",
       "  'dy': [-1],\n",
       "  'physical': [1],\n",
       "  'storage': [-1, -1],\n",
       "  '500gb': [1, 1, 1, 1],\n",
       "  'report': [-1],\n",
       "  'picture': [-1, -1, 1],\n",
       "  'actual': [1, 1],\n",
       "  'browse': [-1, -1],\n",
       "  'snow': [-1, -1],\n",
       "  'wiped': [1, 1, -1, 1],\n",
       "  '500': [-1],\n",
       "  'bitdefender': [-1],\n",
       "  'virus': [-1, -1, -1],\n",
       "  'infamous': [-1],\n",
       "  'located': [1],\n",
       "  'chassis': [-1],\n",
       "  'importing': [-1],\n",
       "  'ya': [-1],\n",
       "  'cloning': [1, -1, -1, 1],\n",
       "  'guide': [-1],\n",
       "  'dell': [1],\n",
       "  'dead': [-1],\n",
       "  'reload': [1],\n",
       "  'scratch': [-1],\n",
       "  'managed': [-1, -1],\n",
       "  'ata': [1],\n",
       "  'laying': [-1],\n",
       "  'connected': [-1, -1, -1],\n",
       "  'area': [1, 1],\n",
       "  'called': [-1],\n",
       "  'vault': [1],\n",
       "  'virtual': [-1],\n",
       "  'convert': [-1, -1],\n",
       "  'avoid': [-1],\n",
       "  'manually': [-1],\n",
       "  'extra': [1],\n",
       "  'crash': [-1, -1, 1, -1, -1],\n",
       "  'defragged': [1],\n",
       "  'hour': [-1, 1],\n",
       "  'medium': [1, 1, 1],\n",
       "  'copy': [-1, -1, 1, 1, 1, 1, -1],\n",
       "  'scanning': [1, 1],\n",
       "  'collecting': [-1, -1],\n",
       "  'permission': [-1],\n",
       "  'desk': [-1, -1, -1],\n",
       "  'screen': [1, 1],\n",
       "  'requires': [1],\n",
       "  'opposed': [-1],\n",
       "  'nice': [-1, -1, -1],\n",
       "  'limited': [1],\n",
       "  'concern': [-1, -1],\n",
       "  'small': [1],\n",
       "  'error': [-1],\n",
       "  'art': [1],\n",
       "  'raptor': [1],\n",
       "  '7200rpm': [-1, 1],\n",
       "  '-good': [1, 1, 1, 1],\n",
       "  '200': [-1, -1, -1, -1, 1],\n",
       "  'wdme5000tn': [-1, -1, -1, -1],\n",
       "  'client': [1, 1, 1, 1],\n",
       "  'encrypted': [-1, -1, -1, -1],\n",
       "  'needed': [-1],\n",
       "  'upgrading': [1, 1, 1],\n",
       "  'finish': [-1, -1, -1],\n",
       "  '400': [-1],\n",
       "  'booted': [-1, -1],\n",
       "  'enclosure': [-1, -1, 1],\n",
       "  'desktop': [-1, 1],\n",
       "  'issue': [-1, 1],\n",
       "  'wdh1cs5000n': [-1],\n",
       "  'big': [-1, 1, -1],\n",
       "  'clonezilla': [-1],\n",
       "  '20': [-1],\n",
       "  'half': [-1, -1],\n",
       "  'bitlocker': [1, 1],\n",
       "  'encryption': [-1, -1],\n",
       "  'encrypt': [1],\n",
       "  'nvidia': [-1],\n",
       "  'disable': [-1, -1],\n",
       "  'chunk': [1],\n",
       "  're-installed': [-1, -1],\n",
       "  'scanned': [1],\n",
       "  'malware': [-1],\n",
       "  'raid': [-1],\n",
       "  'customizable': [-1],\n",
       "  'forever': [-1],\n",
       "  'photo': [-1, 1, 1],\n",
       "  'real': [-1],\n",
       "  'parallel': [-1],\n",
       "  'removable': [1, -1],\n",
       "  'bring': [-1],\n",
       "  '80gig': [1, 1, 1, 1],\n",
       "  'restored': [1],\n",
       "  'started': [-1, -1],\n",
       "  'succeded': [-1],\n",
       "  'suggested': [-1],\n",
       "  'search': [1],\n",
       "  'multi-terabyte': [1],\n",
       "  'unit': [-1],\n",
       "  '64mb': [1],\n",
       "  'heard': [-1, -1],\n",
       "  'leak': [1],\n",
       "  'wreak': [-1],\n",
       "  'solid-state': [-1],\n",
       "  'planning': [-1],\n",
       "  'erase': [1],\n",
       "  'feature': [-1],\n",
       "  'destination': [-1],\n",
       "  'filled': [-1],\n",
       "  'reformatted': [1],\n",
       "  'stick': [-1],\n",
       "  'replace': [1, 1, 1, 1, -1],\n",
       "  '2-3': [-1, -1],\n",
       "  'fail': [1],\n",
       "  'technology': [-1],\n",
       "  'failed': [1],\n",
       "  'hand': [-1],\n",
       "  'emergency': [-1],\n",
       "  'purchasing': [1],\n",
       "  'package': [1],\n",
       "  'recover': [-1],\n",
       "  'operating': [-1, -1],\n",
       "  'incident': [1],\n",
       "  'capacity': [-1],\n",
       "  'higher': [-1],\n",
       "  'writing': [-1],\n",
       "  '3gb': [1, 1],\n",
       "  'registration': [-1],\n",
       "  'corruption': [1],\n",
       "  'impossible': [-1, -1],\n",
       "  'changed': [1, -1],\n",
       "  'star': [-1],\n",
       "  'instruction': [-1],\n",
       "  'pulled': [1],\n",
       "  'distracting': [-1],\n",
       "  'evident': [-1],\n",
       "  '2011': [-1],\n",
       "  'fully': [-1],\n",
       "  '410gb': [-1],\n",
       "  'maintained': [1],\n",
       "  'maintenance': [-1],\n",
       "  '2010': [1],\n",
       "  'complete': [-1],\n",
       "  'freedom': [-1, -1, -1, -1],\n",
       "  'capturing': [-1, -1, -1, -1],\n",
       "  'library': [1, 1, 1, 1],\n",
       "  'clip': [1],\n",
       "  'view': [-1],\n",
       "  '800mb': [1],\n",
       "  'revert': [1],\n",
       "  '120gb': [1],\n",
       "  '120': [1],\n",
       "  '250gb': [1],\n",
       "  'scrubbing': [1],\n",
       "  'kasperksy': [-1],\n",
       "  'usb-attached': [1],\n",
       "  'greatly': [-1],\n",
       "  'notice': [-1],\n",
       "  'mb': [1],\n",
       "  'hp': [-1, -1],\n",
       "  'worked': [-1, 1],\n",
       "  'clutter': [1, 1],\n",
       "  'term': [-1],\n",
       "  'vetting': [1],\n",
       "  'trend': [-1],\n",
       "  '500g': [1, 1],\n",
       "  '48': [-1],\n",
       "  'allot': [1],\n",
       "  'automatically': [1, -1],\n",
       "  'icon': [1],\n",
       "  'rebooting': [-1],\n",
       "  'downloaded': [-1],\n",
       "  'finished': [-1],\n",
       "  'on-line': [1],\n",
       "  'main': [1, 1, 1],\n",
       "  'c-drive': [-1, -1, -1],\n",
       "  'ensure': [-1, -1],\n",
       "  '4': [-1, -1, -1],\n",
       "  'job': [1],\n",
       "  'function': [-1],\n",
       "  'attached': [1],\n",
       "  'allocation': [1],\n",
       "  'ipad': [-1],\n",
       "  'problem': [1],\n",
       "  'remote': [1],\n",
       "  'stay': [1],\n",
       "  'simple': [-1],\n",
       "  'de-clutter': [1],\n",
       "  'obtaining': [1],\n",
       "  'purchased': [-1],\n",
       "  'contacting': [-1],\n",
       "  'perfectly': [1],\n",
       "  'required': [-1],\n",
       "  'catalog': [-1],\n",
       "  'controller': [-1],\n",
       "  'state': [1],\n",
       "  'undercarriage': [-1],\n",
       "  '64-bit': [1, 1],\n",
       "  'directx': [-1, -1],\n",
       "  'restarting': [1, 1],\n",
       "  'spinning': [-1, -1],\n",
       "  'vmware': [-1],\n",
       "  'run': [-1],\n",
       "  'win8': [-1],\n",
       "  'slide': [-1],\n",
       "  'power': [1],\n",
       "  'activity': [-1],\n",
       "  'mechanical': [1, 1],\n",
       "  'dual': [-1],\n",
       "  'hooked': [1, 1],\n",
       "  'hood': [-1],\n",
       "  '16gb': [1],\n",
       "  '20gb': [1],\n",
       "  'take': [-1],\n",
       "  'handy': [1],\n",
       "  'great': [-1, -1, -1],\n",
       "  'scouring': [1],\n",
       "  'theme': [-1],\n",
       "  'wanted': [-1],\n",
       "  'reduce': [-1, -1],\n",
       "  'fault': [-1],\n",
       "  'change': [1],\n",
       "  'difficult': [1],\n",
       "  'cleanup': [1],\n",
       "  'careful': [-1],\n",
       "  'hidden': [1],\n",
       "  'discern': [-1],\n",
       "  'indexed': [-1],\n",
       "  'bank': [1],\n",
       "  'cover': [-1],\n",
       "  'music': [1],\n",
       "  'band-with': [-1],\n",
       "  'place': [1],\n",
       "  'finally': [-1],\n",
       "  '7': [1],\n",
       "  'w7': [-1],\n",
       "  'removed': [-1],\n",
       "  'manage': [1],\n",
       "  'previously-working': [1],\n",
       "  'operation': [-1],\n",
       "  'lost': [1, -1, 1],\n",
       "  'reloading': [-1],\n",
       "  'tg': [1],\n",
       "  '240': [-1],\n",
       "  '60mbps': [-1],\n",
       "  'right-click': [-1],\n",
       "  '100gigs': [1, 1, 1, 1],\n",
       "  'filling': [-1, -1, -1, -1],\n",
       "  'loading': [1],\n",
       "  'footprint': [-1],\n",
       "  'threat': [-1],\n",
       "  'devoted': [-1],\n",
       "  'lot': [1],\n",
       "  'uncheck': [-1],\n",
       "  'studio': [-1],\n",
       "  'jam': [1],\n",
       "  'easier': [-1],\n",
       "  'preforms': [-1],\n",
       "  'reason': [-1],\n",
       "  'system': [-1, -1],\n",
       "  'recommend': [-1],\n",
       "  'fresh': [-1, 1],\n",
       "  'lucky': [-1, -1, -1],\n",
       "  'continuously': [-1],\n",
       "  'suggestion': [1],\n",
       "  'surfing': [1],\n",
       "  'shame': [-1],\n",
       "  'recognize': [-1],\n",
       "  'difference': [1],\n",
       "  'solid': [-1],\n",
       "  'nero': [-1],\n",
       "  'overwrites': [-1],\n",
       "  'additional': [-1],\n",
       "  'personal': [-1],\n",
       "  'worm': [1],\n",
       "  'sabotaged': [1],\n",
       "  'fried': [-1, -1],\n",
       "  'stable': [-1],\n",
       "  'pinnacle': [-1],\n",
       "  'contact': [-1],\n",
       "  'left': [1],\n",
       "  'damage': [1],\n",
       "  'short': [-1],\n",
       "  'component': [-1],\n",
       "  'starting': [1],\n",
       "  'dog': [1],\n",
       "  '5400': [-1],\n",
       "  'shortfall': [1],\n",
       "  'ability': [1],\n",
       "  'inside': [-1],\n",
       "  'ram': [1, 1],\n",
       "  'expanded': [-1],\n",
       "  'network': [-1],\n",
       "  'safeguard': [-1],\n",
       "  'smoothly': [-1],\n",
       "  'written': [1],\n",
       "  'vram': [1],\n",
       "  'block': [-1],\n",
       "  'ripped': [1],\n",
       "  'powerdvd': [-1],\n",
       "  'player': [1],\n",
       "  'tuner': [1],\n",
       "  'dvr': [-1],\n",
       "  'song': [1, -1, 1, -1, 1, -1],\n",
       "  'occasion': [1],\n",
       "  'g5': [-1],\n",
       "  'ipartition': [-1],\n",
       "  'section': [1],\n",
       "  'tech': [-1],\n",
       "  '75': [1],\n",
       "  'uploading': [-1],\n",
       "  'switched': [1],\n",
       "  'artist': [-1],\n",
       "  'price': [-1]}}"
      ]
     },
     "execution_count": 461,
     "metadata": {},
     "output_type": "execute_result"
    }
   ],
   "source": [
    "freq_pos"
   ]
  },
  {
   "cell_type": "markdown",
   "id": "6ba24474",
   "metadata": {},
   "source": [
    "А дальше я не успела, потому что закопалась на первом этапе на веки вечные. Зато я теперь много знаю о логистической регрессии"
   ]
  },
  {
   "cell_type": "code",
   "execution_count": null,
   "id": "0e4ceb77",
   "metadata": {},
   "outputs": [],
   "source": []
  }
 ],
 "metadata": {
  "kernelspec": {
   "display_name": "Python 3 (ipykernel)",
   "language": "python",
   "name": "python3"
  },
  "language_info": {
   "codemirror_mode": {
    "name": "ipython",
    "version": 3
   },
   "file_extension": ".py",
   "mimetype": "text/x-python",
   "name": "python",
   "nbconvert_exporter": "python",
   "pygments_lexer": "ipython3",
   "version": "3.10.7"
  }
 },
 "nbformat": 4,
 "nbformat_minor": 5
}
